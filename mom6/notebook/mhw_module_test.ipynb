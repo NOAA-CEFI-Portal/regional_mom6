{
 "cells": [
  {
   "cell_type": "markdown",
   "metadata": {},
   "source": [
    "## Test MHW"
   ]
  },
  {
   "cell_type": "code",
   "execution_count": 1,
   "metadata": {},
   "outputs": [],
   "source": [
    "import xarray as xr\n",
    "import numpy as np\n",
    "from dask.distributed import Client\n",
    "from mom6.mom6_module import mom6_io\n",
    "from mom6.mom6_module import mom6_statistics\n",
    "from mom6.mom6_module import mom6_mhw"
   ]
  },
  {
   "cell_type": "code",
   "execution_count": 3,
   "metadata": {},
   "outputs": [],
   "source": [
    "ClassForecast = mom6_io.MOM6Forecast(\n",
    "        var='tos',\n",
    "        data_relative_dir='forecast/',\n",
    "        static_relative_dir='static/',\n",
    "        grid='raw',\n",
    "        source='local'\n",
    "    )\n",
    "\n",
    "ds = ClassForecast.get_all()"
   ]
  },
  {
   "cell_type": "code",
   "execution_count": 4,
   "metadata": {},
   "outputs": [],
   "source": [
    "ds = ds.rename({'geolon':'lon','geolat':'lat'})"
   ]
  },
  {
   "cell_type": "code",
   "execution_count": 5,
   "metadata": {},
   "outputs": [],
   "source": [
    "class_mhw = mom6_mhw.MarineHeatwaveForecast(\n",
    "        ds.isel(\n",
    "            xh=slice(300,350),\n",
    "            yh=slice(100, 150),\n",
    "            lead=slice(0,1),\n",
    "            member=slice(0,1)\n",
    "        ),\n",
    "        'tos'\n",
    "    )"
   ]
  },
  {
   "cell_type": "code",
   "execution_count": 6,
   "metadata": {},
   "outputs": [],
   "source": [
    "ds_mhw_batch = class_mhw.generate_forecast_batch(1993,1994,1993,1993,90)"
   ]
  },
  {
   "cell_type": "code",
   "execution_count": 7,
   "metadata": {},
   "outputs": [
    {
     "data": {
      "text/plain": [
       "-3.4960936923233987e-09"
      ]
     },
     "execution_count": 7,
     "metadata": {},
     "output_type": "execute_result"
    }
   ],
   "source": [
    "ds_mhw_batch.tos_threshold90.max().data-0.37993317"
   ]
  },
  {
   "cell_type": "code",
   "execution_count": 8,
   "metadata": {},
   "outputs": [
    {
     "data": {
      "text/plain": [
       "0.0"
      ]
     },
     "execution_count": 8,
     "metadata": {},
     "output_type": "execute_result"
    }
   ],
   "source": [
    "ds_mhw_batch.mhw_prob90.sum().data-6775."
   ]
  },
  {
   "cell_type": "code",
   "execution_count": 9,
   "metadata": {},
   "outputs": [
    {
     "data": {
      "text/plain": [
       "-1.8701171722312893e-09"
      ]
     },
     "execution_count": 9,
     "metadata": {},
     "output_type": "execute_result"
    }
   ],
   "source": [
    "ds_mhw_batch.ssta_avg.max().data-0.47491646"
   ]
  },
  {
   "cell_type": "code",
   "execution_count": 11,
   "metadata": {},
   "outputs": [
    {
     "data": {
      "text/html": [
       "<div><svg style=\"position: absolute; width: 0; height: 0; overflow: hidden\">\n",
       "<defs>\n",
       "<symbol id=\"icon-database\" viewBox=\"0 0 32 32\">\n",
       "<path d=\"M16 0c-8.837 0-16 2.239-16 5v4c0 2.761 7.163 5 16 5s16-2.239 16-5v-4c0-2.761-7.163-5-16-5z\"></path>\n",
       "<path d=\"M16 17c-8.837 0-16-2.239-16-5v6c0 2.761 7.163 5 16 5s16-2.239 16-5v-6c0 2.761-7.163 5-16 5z\"></path>\n",
       "<path d=\"M16 26c-8.837 0-16-2.239-16-5v6c0 2.761 7.163 5 16 5s16-2.239 16-5v-6c0 2.761-7.163 5-16 5z\"></path>\n",
       "</symbol>\n",
       "<symbol id=\"icon-file-text2\" viewBox=\"0 0 32 32\">\n",
       "<path d=\"M28.681 7.159c-0.694-0.947-1.662-2.053-2.724-3.116s-2.169-2.030-3.116-2.724c-1.612-1.182-2.393-1.319-2.841-1.319h-15.5c-1.378 0-2.5 1.121-2.5 2.5v27c0 1.378 1.122 2.5 2.5 2.5h23c1.378 0 2.5-1.122 2.5-2.5v-19.5c0-0.448-0.137-1.23-1.319-2.841zM24.543 5.457c0.959 0.959 1.712 1.825 2.268 2.543h-4.811v-4.811c0.718 0.556 1.584 1.309 2.543 2.268zM28 29.5c0 0.271-0.229 0.5-0.5 0.5h-23c-0.271 0-0.5-0.229-0.5-0.5v-27c0-0.271 0.229-0.5 0.5-0.5 0 0 15.499-0 15.5 0v7c0 0.552 0.448 1 1 1h7v19.5z\"></path>\n",
       "<path d=\"M23 26h-14c-0.552 0-1-0.448-1-1s0.448-1 1-1h14c0.552 0 1 0.448 1 1s-0.448 1-1 1z\"></path>\n",
       "<path d=\"M23 22h-14c-0.552 0-1-0.448-1-1s0.448-1 1-1h14c0.552 0 1 0.448 1 1s-0.448 1-1 1z\"></path>\n",
       "<path d=\"M23 18h-14c-0.552 0-1-0.448-1-1s0.448-1 1-1h14c0.552 0 1 0.448 1 1s-0.448 1-1 1z\"></path>\n",
       "</symbol>\n",
       "</defs>\n",
       "</svg>\n",
       "<style>/* CSS stylesheet for displaying xarray objects in jupyterlab.\n",
       " *\n",
       " */\n",
       "\n",
       ":root {\n",
       "  --xr-font-color0: var(--jp-content-font-color0, rgba(0, 0, 0, 1));\n",
       "  --xr-font-color2: var(--jp-content-font-color2, rgba(0, 0, 0, 0.54));\n",
       "  --xr-font-color3: var(--jp-content-font-color3, rgba(0, 0, 0, 0.38));\n",
       "  --xr-border-color: var(--jp-border-color2, #e0e0e0);\n",
       "  --xr-disabled-color: var(--jp-layout-color3, #bdbdbd);\n",
       "  --xr-background-color: var(--jp-layout-color0, white);\n",
       "  --xr-background-color-row-even: var(--jp-layout-color1, white);\n",
       "  --xr-background-color-row-odd: var(--jp-layout-color2, #eeeeee);\n",
       "}\n",
       "\n",
       "html[theme=dark],\n",
       "body[data-theme=dark],\n",
       "body.vscode-dark {\n",
       "  --xr-font-color0: rgba(255, 255, 255, 1);\n",
       "  --xr-font-color2: rgba(255, 255, 255, 0.54);\n",
       "  --xr-font-color3: rgba(255, 255, 255, 0.38);\n",
       "  --xr-border-color: #1F1F1F;\n",
       "  --xr-disabled-color: #515151;\n",
       "  --xr-background-color: #111111;\n",
       "  --xr-background-color-row-even: #111111;\n",
       "  --xr-background-color-row-odd: #313131;\n",
       "}\n",
       "\n",
       ".xr-wrap {\n",
       "  display: block !important;\n",
       "  min-width: 300px;\n",
       "  max-width: 700px;\n",
       "}\n",
       "\n",
       ".xr-text-repr-fallback {\n",
       "  /* fallback to plain text repr when CSS is not injected (untrusted notebook) */\n",
       "  display: none;\n",
       "}\n",
       "\n",
       ".xr-header {\n",
       "  padding-top: 6px;\n",
       "  padding-bottom: 6px;\n",
       "  margin-bottom: 4px;\n",
       "  border-bottom: solid 1px var(--xr-border-color);\n",
       "}\n",
       "\n",
       ".xr-header > div,\n",
       ".xr-header > ul {\n",
       "  display: inline;\n",
       "  margin-top: 0;\n",
       "  margin-bottom: 0;\n",
       "}\n",
       "\n",
       ".xr-obj-type,\n",
       ".xr-array-name {\n",
       "  margin-left: 2px;\n",
       "  margin-right: 10px;\n",
       "}\n",
       "\n",
       ".xr-obj-type {\n",
       "  color: var(--xr-font-color2);\n",
       "}\n",
       "\n",
       ".xr-sections {\n",
       "  padding-left: 0 !important;\n",
       "  display: grid;\n",
       "  grid-template-columns: 150px auto auto 1fr 20px 20px;\n",
       "}\n",
       "\n",
       ".xr-section-item {\n",
       "  display: contents;\n",
       "}\n",
       "\n",
       ".xr-section-item input {\n",
       "  display: none;\n",
       "}\n",
       "\n",
       ".xr-section-item input + label {\n",
       "  color: var(--xr-disabled-color);\n",
       "}\n",
       "\n",
       ".xr-section-item input:enabled + label {\n",
       "  cursor: pointer;\n",
       "  color: var(--xr-font-color2);\n",
       "}\n",
       "\n",
       ".xr-section-item input:enabled + label:hover {\n",
       "  color: var(--xr-font-color0);\n",
       "}\n",
       "\n",
       ".xr-section-summary {\n",
       "  grid-column: 1;\n",
       "  color: var(--xr-font-color2);\n",
       "  font-weight: 500;\n",
       "}\n",
       "\n",
       ".xr-section-summary > span {\n",
       "  display: inline-block;\n",
       "  padding-left: 0.5em;\n",
       "}\n",
       "\n",
       ".xr-section-summary-in:disabled + label {\n",
       "  color: var(--xr-font-color2);\n",
       "}\n",
       "\n",
       ".xr-section-summary-in + label:before {\n",
       "  display: inline-block;\n",
       "  content: '►';\n",
       "  font-size: 11px;\n",
       "  width: 15px;\n",
       "  text-align: center;\n",
       "}\n",
       "\n",
       ".xr-section-summary-in:disabled + label:before {\n",
       "  color: var(--xr-disabled-color);\n",
       "}\n",
       "\n",
       ".xr-section-summary-in:checked + label:before {\n",
       "  content: '▼';\n",
       "}\n",
       "\n",
       ".xr-section-summary-in:checked + label > span {\n",
       "  display: none;\n",
       "}\n",
       "\n",
       ".xr-section-summary,\n",
       ".xr-section-inline-details {\n",
       "  padding-top: 4px;\n",
       "  padding-bottom: 4px;\n",
       "}\n",
       "\n",
       ".xr-section-inline-details {\n",
       "  grid-column: 2 / -1;\n",
       "}\n",
       "\n",
       ".xr-section-details {\n",
       "  display: none;\n",
       "  grid-column: 1 / -1;\n",
       "  margin-bottom: 5px;\n",
       "}\n",
       "\n",
       ".xr-section-summary-in:checked ~ .xr-section-details {\n",
       "  display: contents;\n",
       "}\n",
       "\n",
       ".xr-array-wrap {\n",
       "  grid-column: 1 / -1;\n",
       "  display: grid;\n",
       "  grid-template-columns: 20px auto;\n",
       "}\n",
       "\n",
       ".xr-array-wrap > label {\n",
       "  grid-column: 1;\n",
       "  vertical-align: top;\n",
       "}\n",
       "\n",
       ".xr-preview {\n",
       "  color: var(--xr-font-color3);\n",
       "}\n",
       "\n",
       ".xr-array-preview,\n",
       ".xr-array-data {\n",
       "  padding: 0 5px !important;\n",
       "  grid-column: 2;\n",
       "}\n",
       "\n",
       ".xr-array-data,\n",
       ".xr-array-in:checked ~ .xr-array-preview {\n",
       "  display: none;\n",
       "}\n",
       "\n",
       ".xr-array-in:checked ~ .xr-array-data,\n",
       ".xr-array-preview {\n",
       "  display: inline-block;\n",
       "}\n",
       "\n",
       ".xr-dim-list {\n",
       "  display: inline-block !important;\n",
       "  list-style: none;\n",
       "  padding: 0 !important;\n",
       "  margin: 0;\n",
       "}\n",
       "\n",
       ".xr-dim-list li {\n",
       "  display: inline-block;\n",
       "  padding: 0;\n",
       "  margin: 0;\n",
       "}\n",
       "\n",
       ".xr-dim-list:before {\n",
       "  content: '(';\n",
       "}\n",
       "\n",
       ".xr-dim-list:after {\n",
       "  content: ')';\n",
       "}\n",
       "\n",
       ".xr-dim-list li:not(:last-child):after {\n",
       "  content: ',';\n",
       "  padding-right: 5px;\n",
       "}\n",
       "\n",
       ".xr-has-index {\n",
       "  font-weight: bold;\n",
       "}\n",
       "\n",
       ".xr-var-list,\n",
       ".xr-var-item {\n",
       "  display: contents;\n",
       "}\n",
       "\n",
       ".xr-var-item > div,\n",
       ".xr-var-item label,\n",
       ".xr-var-item > .xr-var-name span {\n",
       "  background-color: var(--xr-background-color-row-even);\n",
       "  margin-bottom: 0;\n",
       "}\n",
       "\n",
       ".xr-var-item > .xr-var-name:hover span {\n",
       "  padding-right: 5px;\n",
       "}\n",
       "\n",
       ".xr-var-list > li:nth-child(odd) > div,\n",
       ".xr-var-list > li:nth-child(odd) > label,\n",
       ".xr-var-list > li:nth-child(odd) > .xr-var-name span {\n",
       "  background-color: var(--xr-background-color-row-odd);\n",
       "}\n",
       "\n",
       ".xr-var-name {\n",
       "  grid-column: 1;\n",
       "}\n",
       "\n",
       ".xr-var-dims {\n",
       "  grid-column: 2;\n",
       "}\n",
       "\n",
       ".xr-var-dtype {\n",
       "  grid-column: 3;\n",
       "  text-align: right;\n",
       "  color: var(--xr-font-color2);\n",
       "}\n",
       "\n",
       ".xr-var-preview {\n",
       "  grid-column: 4;\n",
       "}\n",
       "\n",
       ".xr-index-preview {\n",
       "  grid-column: 2 / 5;\n",
       "  color: var(--xr-font-color2);\n",
       "}\n",
       "\n",
       ".xr-var-name,\n",
       ".xr-var-dims,\n",
       ".xr-var-dtype,\n",
       ".xr-preview,\n",
       ".xr-attrs dt {\n",
       "  white-space: nowrap;\n",
       "  overflow: hidden;\n",
       "  text-overflow: ellipsis;\n",
       "  padding-right: 10px;\n",
       "}\n",
       "\n",
       ".xr-var-name:hover,\n",
       ".xr-var-dims:hover,\n",
       ".xr-var-dtype:hover,\n",
       ".xr-attrs dt:hover {\n",
       "  overflow: visible;\n",
       "  width: auto;\n",
       "  z-index: 1;\n",
       "}\n",
       "\n",
       ".xr-var-attrs,\n",
       ".xr-var-data,\n",
       ".xr-index-data {\n",
       "  display: none;\n",
       "  background-color: var(--xr-background-color) !important;\n",
       "  padding-bottom: 5px !important;\n",
       "}\n",
       "\n",
       ".xr-var-attrs-in:checked ~ .xr-var-attrs,\n",
       ".xr-var-data-in:checked ~ .xr-var-data,\n",
       ".xr-index-data-in:checked ~ .xr-index-data {\n",
       "  display: block;\n",
       "}\n",
       "\n",
       ".xr-var-data > table {\n",
       "  float: right;\n",
       "}\n",
       "\n",
       ".xr-var-name span,\n",
       ".xr-var-data,\n",
       ".xr-index-name div,\n",
       ".xr-index-data,\n",
       ".xr-attrs {\n",
       "  padding-left: 25px !important;\n",
       "}\n",
       "\n",
       ".xr-attrs,\n",
       ".xr-var-attrs,\n",
       ".xr-var-data,\n",
       ".xr-index-data {\n",
       "  grid-column: 1 / -1;\n",
       "}\n",
       "\n",
       "dl.xr-attrs {\n",
       "  padding: 0;\n",
       "  margin: 0;\n",
       "  display: grid;\n",
       "  grid-template-columns: 125px auto;\n",
       "}\n",
       "\n",
       ".xr-attrs dt,\n",
       ".xr-attrs dd {\n",
       "  padding: 0;\n",
       "  margin: 0;\n",
       "  float: left;\n",
       "  padding-right: 10px;\n",
       "  width: auto;\n",
       "}\n",
       "\n",
       ".xr-attrs dt {\n",
       "  font-weight: normal;\n",
       "  grid-column: 1;\n",
       "}\n",
       "\n",
       ".xr-attrs dt:hover span {\n",
       "  display: inline-block;\n",
       "  background: var(--xr-background-color);\n",
       "  padding-right: 10px;\n",
       "}\n",
       "\n",
       ".xr-attrs dd {\n",
       "  grid-column: 2;\n",
       "  white-space: pre-wrap;\n",
       "  word-break: break-all;\n",
       "}\n",
       "\n",
       ".xr-icon-database,\n",
       ".xr-icon-file-text2,\n",
       ".xr-no-icon {\n",
       "  display: inline-block;\n",
       "  vertical-align: middle;\n",
       "  width: 1em;\n",
       "  height: 1.5em !important;\n",
       "  stroke-width: 0;\n",
       "  stroke: currentColor;\n",
       "  fill: currentColor;\n",
       "}\n",
       "</style><pre class='xr-text-repr-fallback'>&lt;xarray.Dataset&gt; Size: 261kB\n",
       "Dimensions:          (xh: 50, yh: 50, lead: 1, month: 4, init: 4, member: 1)\n",
       "Coordinates:\n",
       "  * xh               (xh) float64 400B -74.0 -73.92 -73.84 ... -70.16 -70.08\n",
       "  * yh               (yh) float64 400B 13.16 13.24 13.32 ... 16.79 16.87 16.95\n",
       "    lon              (yh, xh) float32 10kB 286.0 286.1 286.2 ... 289.8 289.9\n",
       "    lat              (yh, xh) float32 10kB 13.16 13.16 13.16 ... 16.95 16.95\n",
       "  * lead             (lead) int32 4B 0\n",
       "    quantile         (month) float64 32B 0.9 0.9 0.9 0.9\n",
       "  * month            (month) int64 32B 3 6 9 12\n",
       "  * init             (init) datetime64[ns] 32B 1993-03-01 ... 1993-12-01\n",
       "  * member           (member) int32 4B 1\n",
       "Data variables:\n",
       "    tos_threshold90  (month, lead, yh, xh) float64 80kB 0.1168 ... 0.07896\n",
       "    tos_climo        (month, lead, yh, xh) float32 40kB 25.96 25.96 ... 27.36\n",
       "    mhw_prob90       (init, lead, yh, xh) float32 40kB 1.0 1.0 1.0 ... 0.0 0.0\n",
       "    ssta_avg         (init, lead, yh, xh) float32 40kB 0.146 0.1241 ... -0.0987\n",
       "    ssta             (init, member, lead, yh, xh) float32 40kB dask.array&lt;chunksize=(1, 1, 1, 50, 50), meta=np.ndarray&gt;\n",
       "Attributes:\n",
       "    period_of_quantile:     The 90 quantile from year 1993 to 1994\n",
       "    period_of_climatology:  year 1993 to 1994</pre><div class='xr-wrap' style='display:none'><div class='xr-header'><div class='xr-obj-type'>xarray.Dataset</div></div><ul class='xr-sections'><li class='xr-section-item'><input id='section-6485d615-789b-42db-9215-73386cecaf75' class='xr-section-summary-in' type='checkbox' disabled ><label for='section-6485d615-789b-42db-9215-73386cecaf75' class='xr-section-summary'  title='Expand/collapse section'>Dimensions:</label><div class='xr-section-inline-details'><ul class='xr-dim-list'><li><span class='xr-has-index'>xh</span>: 50</li><li><span class='xr-has-index'>yh</span>: 50</li><li><span class='xr-has-index'>lead</span>: 1</li><li><span class='xr-has-index'>month</span>: 4</li><li><span class='xr-has-index'>init</span>: 4</li><li><span class='xr-has-index'>member</span>: 1</li></ul></div><div class='xr-section-details'></div></li><li class='xr-section-item'><input id='section-aa356af8-40e4-449b-9e3f-a9ea3a40b335' class='xr-section-summary-in' type='checkbox'  checked><label for='section-aa356af8-40e4-449b-9e3f-a9ea3a40b335' class='xr-section-summary' >Coordinates: <span>(9)</span></label><div class='xr-section-inline-details'></div><div class='xr-section-details'><ul class='xr-var-list'><li class='xr-var-item'><div class='xr-var-name'><span class='xr-has-index'>xh</span></div><div class='xr-var-dims'>(xh)</div><div class='xr-var-dtype'>float64</div><div class='xr-var-preview xr-preview'>-74.0 -73.92 ... -70.16 -70.08</div><input id='attrs-0be37307-ebe0-4285-94e0-4f562ee846d5' class='xr-var-attrs-in' type='checkbox' ><label for='attrs-0be37307-ebe0-4285-94e0-4f562ee846d5' title='Show/Hide attributes'><svg class='icon xr-icon-file-text2'><use xlink:href='#icon-file-text2'></use></svg></label><input id='data-b457cdc7-1e2b-462d-b122-5db4192419df' class='xr-var-data-in' type='checkbox'><label for='data-b457cdc7-1e2b-462d-b122-5db4192419df' title='Show/Hide data repr'><svg class='icon xr-icon-database'><use xlink:href='#icon-database'></use></svg></label><div class='xr-var-attrs'><dl class='xr-attrs'><dt><span>units :</span></dt><dd>degrees_east</dd><dt><span>long_name :</span></dt><dd>h point nominal longitude</dd><dt><span>axis :</span></dt><dd>X</dd></dl></div><div class='xr-var-data'><pre>array([-74.      , -73.920013, -73.839996, -73.76001 , -73.679993, -73.600006,\n",
       "       -73.519989, -73.440002, -73.359985, -73.279999, -73.200012, -73.119995,\n",
       "       -73.040009, -72.959991, -72.880005, -72.799988, -72.720001, -72.640015,\n",
       "       -72.559998, -72.480011, -72.399994, -72.320007, -72.23999 , -72.160004,\n",
       "       -72.079987, -72.      , -71.920013, -71.839996, -71.76001 , -71.679993,\n",
       "       -71.600006, -71.519989, -71.440002, -71.359985, -71.279999, -71.200012,\n",
       "       -71.119995, -71.040009, -70.959991, -70.880005, -70.799988, -70.720001,\n",
       "       -70.640015, -70.559998, -70.480011, -70.399994, -70.320007, -70.23999 ,\n",
       "       -70.160004, -70.079987])</pre></div></li><li class='xr-var-item'><div class='xr-var-name'><span class='xr-has-index'>yh</span></div><div class='xr-var-dims'>(yh)</div><div class='xr-var-dtype'>float64</div><div class='xr-var-preview xr-preview'>13.16 13.24 13.32 ... 16.87 16.95</div><input id='attrs-3c895938-e0f8-43b3-bbd8-90ad9058e107' class='xr-var-attrs-in' type='checkbox' ><label for='attrs-3c895938-e0f8-43b3-bbd8-90ad9058e107' title='Show/Hide attributes'><svg class='icon xr-icon-file-text2'><use xlink:href='#icon-file-text2'></use></svg></label><input id='data-3e3b880a-6990-406e-889d-c99473e3e9f3' class='xr-var-data-in' type='checkbox'><label for='data-3e3b880a-6990-406e-889d-c99473e3e9f3' title='Show/Hide data repr'><svg class='icon xr-icon-database'><use xlink:href='#icon-database'></use></svg></label><div class='xr-var-attrs'><dl class='xr-attrs'><dt><span>units :</span></dt><dd>degrees_north</dd><dt><span>long_name :</span></dt><dd>h point nominal latitude</dd><dt><span>axis :</span></dt><dd>Y</dd></dl></div><div class='xr-var-data'><pre>array([13.162668, 13.240554, 13.318415, 13.396251, 13.474061, 13.551847,\n",
       "       13.629606, 13.707341, 13.785049, 13.862732, 13.940389, 14.01802 ,\n",
       "       14.095624, 14.173203, 14.250753, 14.328279, 14.405777, 14.483248,\n",
       "       14.560692, 14.638109, 14.715499, 14.792861, 14.870195, 14.947502,\n",
       "       15.024781, 15.102033, 15.179255, 15.25645 , 15.333616, 15.410754,\n",
       "       15.487864, 15.564944, 15.641996, 15.719019, 15.796012, 15.872976,\n",
       "       15.949911, 16.026817, 16.103693, 16.180538, 16.257355, 16.334141,\n",
       "       16.410896, 16.487623, 16.564318, 16.640982, 16.717617, 16.79422 ,\n",
       "       16.870792, 16.947334])</pre></div></li><li class='xr-var-item'><div class='xr-var-name'><span>lon</span></div><div class='xr-var-dims'>(yh, xh)</div><div class='xr-var-dtype'>float32</div><div class='xr-var-preview xr-preview'>286.0 286.1 286.2 ... 289.8 289.9</div><input id='attrs-65c3e3d9-4073-4037-916a-1c935ca51d0e' class='xr-var-attrs-in' type='checkbox' ><label for='attrs-65c3e3d9-4073-4037-916a-1c935ca51d0e' title='Show/Hide attributes'><svg class='icon xr-icon-file-text2'><use xlink:href='#icon-file-text2'></use></svg></label><input id='data-a5ad1d91-abcd-477d-814e-e107710ea278' class='xr-var-data-in' type='checkbox'><label for='data-a5ad1d91-abcd-477d-814e-e107710ea278' title='Show/Hide data repr'><svg class='icon xr-icon-database'><use xlink:href='#icon-database'></use></svg></label><div class='xr-var-attrs'><dl class='xr-attrs'><dt><span>units :</span></dt><dd>degrees_east</dd><dt><span>long_name :</span></dt><dd>Longitude of tracer (T) points</dd><dt><span>cell_methods :</span></dt><dd>time: point</dd></dl></div><div class='xr-var-data'><pre>array([[286.  , 286.08, 286.16, ..., 289.76, 289.84, 289.92],\n",
       "       [286.  , 286.08, 286.16, ..., 289.76, 289.84, 289.92],\n",
       "       [286.  , 286.08, 286.16, ..., 289.76, 289.84, 289.92],\n",
       "       ...,\n",
       "       [286.  , 286.08, 286.16, ..., 289.76, 289.84, 289.92],\n",
       "       [286.  , 286.08, 286.16, ..., 289.76, 289.84, 289.92],\n",
       "       [286.  , 286.08, 286.16, ..., 289.76, 289.84, 289.92]],\n",
       "      dtype=float32)</pre></div></li><li class='xr-var-item'><div class='xr-var-name'><span>lat</span></div><div class='xr-var-dims'>(yh, xh)</div><div class='xr-var-dtype'>float32</div><div class='xr-var-preview xr-preview'>13.16 13.16 13.16 ... 16.95 16.95</div><input id='attrs-67cfd7c9-7fc7-4732-ab88-3716cc0e9e6a' class='xr-var-attrs-in' type='checkbox' ><label for='attrs-67cfd7c9-7fc7-4732-ab88-3716cc0e9e6a' title='Show/Hide attributes'><svg class='icon xr-icon-file-text2'><use xlink:href='#icon-file-text2'></use></svg></label><input id='data-386ad136-cf2b-4590-a7b9-9d3c12708ccf' class='xr-var-data-in' type='checkbox'><label for='data-386ad136-cf2b-4590-a7b9-9d3c12708ccf' title='Show/Hide data repr'><svg class='icon xr-icon-database'><use xlink:href='#icon-database'></use></svg></label><div class='xr-var-attrs'><dl class='xr-attrs'><dt><span>units :</span></dt><dd>degrees_north</dd><dt><span>long_name :</span></dt><dd>Latitude of tracer (T) points</dd><dt><span>cell_methods :</span></dt><dd>time: point</dd></dl></div><div class='xr-var-data'><pre>array([[13.162668, 13.162668, 13.162668, ..., 13.162668, 13.162668,\n",
       "        13.162668],\n",
       "       [13.240554, 13.240554, 13.240554, ..., 13.240554, 13.240554,\n",
       "        13.240554],\n",
       "       [13.318415, 13.318415, 13.318415, ..., 13.318415, 13.318415,\n",
       "        13.318415],\n",
       "       ...,\n",
       "       [16.79422 , 16.79422 , 16.79422 , ..., 16.79422 , 16.79422 ,\n",
       "        16.79422 ],\n",
       "       [16.870792, 16.870792, 16.870792, ..., 16.870792, 16.870792,\n",
       "        16.870792],\n",
       "       [16.947334, 16.947334, 16.947334, ..., 16.947334, 16.947334,\n",
       "        16.947334]], dtype=float32)</pre></div></li><li class='xr-var-item'><div class='xr-var-name'><span class='xr-has-index'>lead</span></div><div class='xr-var-dims'>(lead)</div><div class='xr-var-dtype'>int32</div><div class='xr-var-preview xr-preview'>0</div><input id='attrs-fa0a8bf7-e446-448b-90e4-fb903372927c' class='xr-var-attrs-in' type='checkbox' ><label for='attrs-fa0a8bf7-e446-448b-90e4-fb903372927c' title='Show/Hide attributes'><svg class='icon xr-icon-file-text2'><use xlink:href='#icon-file-text2'></use></svg></label><input id='data-65908eb8-6953-4621-bf78-02c20f79f354' class='xr-var-data-in' type='checkbox'><label for='data-65908eb8-6953-4621-bf78-02c20f79f354' title='Show/Hide data repr'><svg class='icon xr-icon-database'><use xlink:href='#icon-database'></use></svg></label><div class='xr-var-attrs'><dl class='xr-attrs'><dt><span>units :</span></dt><dd>months</dd></dl></div><div class='xr-var-data'><pre>array([0], dtype=int32)</pre></div></li><li class='xr-var-item'><div class='xr-var-name'><span>quantile</span></div><div class='xr-var-dims'>(month)</div><div class='xr-var-dtype'>float64</div><div class='xr-var-preview xr-preview'>0.9 0.9 0.9 0.9</div><input id='attrs-34a632f3-2636-46e4-adc4-6052c1cc21f2' class='xr-var-attrs-in' type='checkbox' disabled><label for='attrs-34a632f3-2636-46e4-adc4-6052c1cc21f2' title='Show/Hide attributes'><svg class='icon xr-icon-file-text2'><use xlink:href='#icon-file-text2'></use></svg></label><input id='data-6ad112f3-4a51-4962-8a42-1e9a407fd019' class='xr-var-data-in' type='checkbox'><label for='data-6ad112f3-4a51-4962-8a42-1e9a407fd019' title='Show/Hide data repr'><svg class='icon xr-icon-database'><use xlink:href='#icon-database'></use></svg></label><div class='xr-var-attrs'><dl class='xr-attrs'></dl></div><div class='xr-var-data'><pre>array([0.9, 0.9, 0.9, 0.9])</pre></div></li><li class='xr-var-item'><div class='xr-var-name'><span class='xr-has-index'>month</span></div><div class='xr-var-dims'>(month)</div><div class='xr-var-dtype'>int64</div><div class='xr-var-preview xr-preview'>3 6 9 12</div><input id='attrs-d4bcd666-1488-4cc3-be3d-f9f9e7dfa428' class='xr-var-attrs-in' type='checkbox' disabled><label for='attrs-d4bcd666-1488-4cc3-be3d-f9f9e7dfa428' title='Show/Hide attributes'><svg class='icon xr-icon-file-text2'><use xlink:href='#icon-file-text2'></use></svg></label><input id='data-efe9bb24-24e8-4992-a559-322d690ba549' class='xr-var-data-in' type='checkbox'><label for='data-efe9bb24-24e8-4992-a559-322d690ba549' title='Show/Hide data repr'><svg class='icon xr-icon-database'><use xlink:href='#icon-database'></use></svg></label><div class='xr-var-attrs'><dl class='xr-attrs'></dl></div><div class='xr-var-data'><pre>array([ 3,  6,  9, 12])</pre></div></li><li class='xr-var-item'><div class='xr-var-name'><span class='xr-has-index'>init</span></div><div class='xr-var-dims'>(init)</div><div class='xr-var-dtype'>datetime64[ns]</div><div class='xr-var-preview xr-preview'>1993-03-01 ... 1993-12-01</div><input id='attrs-cfacac68-3bb7-4ebc-a49b-30c5686fffea' class='xr-var-attrs-in' type='checkbox' disabled><label for='attrs-cfacac68-3bb7-4ebc-a49b-30c5686fffea' title='Show/Hide attributes'><svg class='icon xr-icon-file-text2'><use xlink:href='#icon-file-text2'></use></svg></label><input id='data-44e9d54c-08cf-4501-814f-3621b7cb20c0' class='xr-var-data-in' type='checkbox'><label for='data-44e9d54c-08cf-4501-814f-3621b7cb20c0' title='Show/Hide data repr'><svg class='icon xr-icon-database'><use xlink:href='#icon-database'></use></svg></label><div class='xr-var-attrs'><dl class='xr-attrs'></dl></div><div class='xr-var-data'><pre>array([&#x27;1993-03-01T00:00:00.000000000&#x27;, &#x27;1993-06-01T00:00:00.000000000&#x27;,\n",
       "       &#x27;1993-09-01T00:00:00.000000000&#x27;, &#x27;1993-12-01T00:00:00.000000000&#x27;],\n",
       "      dtype=&#x27;datetime64[ns]&#x27;)</pre></div></li><li class='xr-var-item'><div class='xr-var-name'><span class='xr-has-index'>member</span></div><div class='xr-var-dims'>(member)</div><div class='xr-var-dtype'>int32</div><div class='xr-var-preview xr-preview'>1</div><input id='attrs-0bea9b02-788b-4692-9726-a48304c76487' class='xr-var-attrs-in' type='checkbox' disabled><label for='attrs-0bea9b02-788b-4692-9726-a48304c76487' title='Show/Hide attributes'><svg class='icon xr-icon-file-text2'><use xlink:href='#icon-file-text2'></use></svg></label><input id='data-f8f8b9bd-2f6a-4a15-bb50-fbfffa27c1b1' class='xr-var-data-in' type='checkbox'><label for='data-f8f8b9bd-2f6a-4a15-bb50-fbfffa27c1b1' title='Show/Hide data repr'><svg class='icon xr-icon-database'><use xlink:href='#icon-database'></use></svg></label><div class='xr-var-attrs'><dl class='xr-attrs'></dl></div><div class='xr-var-data'><pre>array([1], dtype=int32)</pre></div></li></ul></div></li><li class='xr-section-item'><input id='section-474b3095-48d6-42cf-a6ba-9ed7843500b6' class='xr-section-summary-in' type='checkbox'  checked><label for='section-474b3095-48d6-42cf-a6ba-9ed7843500b6' class='xr-section-summary' >Data variables: <span>(5)</span></label><div class='xr-section-inline-details'></div><div class='xr-section-details'><ul class='xr-var-list'><li class='xr-var-item'><div class='xr-var-name'><span>tos_threshold90</span></div><div class='xr-var-dims'>(month, lead, yh, xh)</div><div class='xr-var-dtype'>float64</div><div class='xr-var-preview xr-preview'>0.1168 0.0993 ... 0.07901 0.07896</div><input id='attrs-5fcd00c6-04ec-4271-9cab-c2aee9a230c0' class='xr-var-attrs-in' type='checkbox' ><label for='attrs-5fcd00c6-04ec-4271-9cab-c2aee9a230c0' title='Show/Hide attributes'><svg class='icon xr-icon-file-text2'><use xlink:href='#icon-file-text2'></use></svg></label><input id='data-78f26069-3bfa-49e1-b999-910fcaab96ac' class='xr-var-data-in' type='checkbox'><label for='data-78f26069-3bfa-49e1-b999-910fcaab96ac' title='Show/Hide data repr'><svg class='icon xr-icon-database'><use xlink:href='#icon-database'></use></svg></label><div class='xr-var-attrs'><dl class='xr-attrs'><dt><span>units :</span></dt><dd>degC</dd><dt><span>long_name :</span></dt><dd>tos threshold90</dd><dt><span>cell_methods :</span></dt><dd>area:mean yh:mean xh:mean time: mean</dd><dt><span>time_avg_info :</span></dt><dd>average_T1,average_T2,average_DT</dd><dt><span>standard_name :</span></dt><dd>sea_surface_temperature</dd><dt><span>period_of_climatology :</span></dt><dd>year 1993 to 1994</dd><dt><span>period_of_quantile :</span></dt><dd>The 90 quantile from year 1993 to 1994</dd></dl></div><div class='xr-var-data'><pre>array([[[[0.11681976, 0.09929676, 0.08305187, ..., 0.02104034,\n",
       "          0.01745911, 0.0137085 ],\n",
       "         [0.13903809, 0.12238007, 0.10691681, ..., 0.01737957,\n",
       "          0.01476746, 0.01087646],\n",
       "         [0.14689503, 0.13301392, 0.11985321, ..., 0.00957813,\n",
       "          0.00659313, 0.00188923],\n",
       "         ...,\n",
       "         [0.06231709, 0.06563568, 0.06996155, ..., 0.02269115,\n",
       "          0.01495037, 0.00656147],\n",
       "         [0.07976532, 0.08184032, 0.08411255, ..., 0.01663971,\n",
       "          0.00930958, 0.0013216 ],\n",
       "         [0.08417225, 0.08196564, 0.08077221, ..., 0.00683117,\n",
       "          0.00126514, 0.0050581 ]]],\n",
       "\n",
       "\n",
       "       [[[0.37993317, 0.36876659, 0.35607147, ..., 0.32456074,\n",
       "          0.32592182, 0.3279726 ],\n",
       "         [0.35334187, 0.33810749, 0.32487049, ..., 0.32710724,\n",
       "          0.32957306, 0.33208141],\n",
       "         [0.32586193, 0.31432648, 0.3073761 , ..., 0.32055511,\n",
       "...\n",
       "          0.11795483, 0.11277924],\n",
       "         [0.20142365, 0.20987244, 0.21859283, ..., 0.12326031,\n",
       "          0.1166872 , 0.11081848],\n",
       "         [0.20794678, 0.21884308, 0.22446423, ..., 0.12130108,\n",
       "          0.11513233, 0.10948334]]],\n",
       "\n",
       "\n",
       "       [[[0.05082378, 0.05234528, 0.05348969, ..., 0.02885151,\n",
       "          0.03547974, 0.04142628],\n",
       "         [0.05063038, 0.05419941, 0.05838795, ..., 0.032164  ,\n",
       "          0.03685131, 0.04087677],\n",
       "         [0.0423933 , 0.0486496 , 0.0551836 , ..., 0.03779297,\n",
       "          0.04160767, 0.04437847],\n",
       "         ...,\n",
       "         [0.11708546, 0.12280426, 0.1285675 , ..., 0.09433765,\n",
       "          0.0946291 , 0.09516468],\n",
       "         [0.1157135 , 0.1237608 , 0.131633  , ..., 0.08584442,\n",
       "          0.08627186, 0.08706188],\n",
       "         [0.11642609, 0.12629852, 0.13480072, ..., 0.07953796,\n",
       "          0.07901287, 0.07895966]]]])</pre></div></li><li class='xr-var-item'><div class='xr-var-name'><span>tos_climo</span></div><div class='xr-var-dims'>(month, lead, yh, xh)</div><div class='xr-var-dtype'>float32</div><div class='xr-var-preview xr-preview'>25.96 25.96 25.97 ... 27.36 27.36</div><input id='attrs-4750ace8-13ef-414a-a22e-b2b08e22781d' class='xr-var-attrs-in' type='checkbox' ><label for='attrs-4750ace8-13ef-414a-a22e-b2b08e22781d' title='Show/Hide attributes'><svg class='icon xr-icon-file-text2'><use xlink:href='#icon-file-text2'></use></svg></label><input id='data-75790de5-dcf1-45d5-a11d-bf4133ee6696' class='xr-var-data-in' type='checkbox'><label for='data-75790de5-dcf1-45d5-a11d-bf4133ee6696' title='Show/Hide data repr'><svg class='icon xr-icon-database'><use xlink:href='#icon-database'></use></svg></label><div class='xr-var-attrs'><dl class='xr-attrs'><dt><span>units :</span></dt><dd>degC</dd><dt><span>long_name :</span></dt><dd>tos climatology</dd><dt><span>cell_methods :</span></dt><dd>area:mean yh:mean xh:mean time: mean</dd><dt><span>time_avg_info :</span></dt><dd>average_T1,average_T2,average_DT</dd><dt><span>standard_name :</span></dt><dd>sea_surface_temperature</dd><dt><span>period_of_climatology :</span></dt><dd>year 1993 to 1994</dd></dl></div><div class='xr-var-data'><pre>array([[[[25.959911, 25.964367, 25.96896 , ..., 26.028793, 26.027878,\n",
       "          26.025187],\n",
       "         [26.032345, 26.038282, 26.04352 , ..., 26.04541 , 26.04169 ,\n",
       "          26.037703],\n",
       "         [26.081871, 26.086327, 26.090559, ..., 26.062424, 26.057232,\n",
       "          26.054497],\n",
       "         ...,\n",
       "         [26.462898, 26.462286, 26.460485, ..., 26.276138, 26.283714,\n",
       "          26.289856],\n",
       "         [26.441942, 26.441525, 26.440468, ..., 26.289192, 26.294056,\n",
       "          26.296791],\n",
       "         [26.4366  , 26.438845, 26.441982, ..., 26.302025, 26.304127,\n",
       "          26.304909]]],\n",
       "\n",
       "\n",
       "       [[[27.163328, 27.153389, 27.14387 , ..., 27.645706, 27.641624,\n",
       "          27.639378],\n",
       "         [27.2048  , 27.197857, 27.195011, ..., 27.67997 , 27.673935,\n",
       "          27.669724],\n",
       "         [27.258015, 27.256607, 27.260067, ..., 27.714348, 27.707432,\n",
       "...\n",
       "          28.420635],\n",
       "         [28.490074, 28.49936 , 28.507515, ..., 28.425507, 28.43039 ,\n",
       "          28.434221],\n",
       "         [28.502104, 28.508968, 28.514576, ..., 28.438976, 28.443287,\n",
       "          28.446707]]],\n",
       "\n",
       "\n",
       "       [[[27.04882 , 27.039236, 27.030237, ..., 27.170868, 27.17997 ,\n",
       "          27.187439],\n",
       "         [27.10067 , 27.092117, 27.084637, ..., 27.189829, 27.1963  ,\n",
       "          27.20163 ],\n",
       "         [27.152287, 27.144836, 27.13726 , ..., 27.20689 , 27.211792,\n",
       "          27.215214],\n",
       "         ...,\n",
       "         [27.397766, 27.393301, 27.388569, ..., 27.353691, 27.355392,\n",
       "          27.354725],\n",
       "         [27.401096, 27.397495, 27.393568, ..., 27.363974, 27.362617,\n",
       "          27.359272],\n",
       "         [27.403786, 27.401155, 27.397713, ..., 27.364288, 27.361324,\n",
       "          27.358028]]]], dtype=float32)</pre></div></li><li class='xr-var-item'><div class='xr-var-name'><span>mhw_prob90</span></div><div class='xr-var-dims'>(init, lead, yh, xh)</div><div class='xr-var-dtype'>float32</div><div class='xr-var-preview xr-preview'>1.0 1.0 1.0 1.0 ... 0.0 0.0 0.0 0.0</div><input id='attrs-03690fc9-fa22-4e3f-bb82-5319fc027a57' class='xr-var-attrs-in' type='checkbox' ><label for='attrs-03690fc9-fa22-4e3f-bb82-5319fc027a57' title='Show/Hide attributes'><svg class='icon xr-icon-file-text2'><use xlink:href='#icon-file-text2'></use></svg></label><input id='data-d67dbfd7-0f22-447b-8374-f3731581d361' class='xr-var-data-in' type='checkbox'><label for='data-d67dbfd7-0f22-447b-8374-f3731581d361' title='Show/Hide data repr'><svg class='icon xr-icon-database'><use xlink:href='#icon-database'></use></svg></label><div class='xr-var-attrs'><dl class='xr-attrs'><dt><span>units :</span></dt><dd>unitless</dd><dt><span>long_name :</span></dt><dd>marine heatwave probability (threshold90)</dd><dt><span>cell_methods :</span></dt><dd>area:mean yh:mean xh:mean time: mean</dd><dt><span>time_avg_info :</span></dt><dd>average_T1,average_T2,average_DT</dd><dt><span>standard_name :</span></dt><dd>sea_surface_temperature</dd><dt><span>period_of_climatology :</span></dt><dd>year 1993 to 1994</dd></dl></div><div class='xr-var-data'><pre>array([[[[1., 1., 1., ..., 0., 0., 0.],\n",
       "         [1., 1., 1., ..., 0., 0., 0.],\n",
       "         [1., 1., 1., ..., 0., 0., 0.],\n",
       "         ...,\n",
       "         [0., 0., 0., ..., 0., 0., 0.],\n",
       "         [0., 0., 0., ..., 0., 0., 0.],\n",
       "         [0., 0., 0., ..., 0., 0., 1.]]],\n",
       "\n",
       "\n",
       "       [[[1., 1., 1., ..., 1., 1., 1.],\n",
       "         [1., 1., 1., ..., 1., 1., 1.],\n",
       "         [1., 1., 1., ..., 1., 1., 1.],\n",
       "         ...,\n",
       "         [1., 1., 1., ..., 1., 1., 1.],\n",
       "         [1., 1., 1., ..., 1., 1., 1.],\n",
       "         [1., 1., 1., ..., 1., 1., 1.]]],\n",
       "\n",
       "\n",
       "       [[[1., 1., 1., ..., 1., 1., 1.],\n",
       "         [1., 1., 1., ..., 1., 1., 1.],\n",
       "         [1., 1., 1., ..., 1., 1., 1.],\n",
       "         ...,\n",
       "         [1., 1., 1., ..., 1., 1., 1.],\n",
       "         [1., 1., 1., ..., 1., 1., 1.],\n",
       "         [1., 1., 1., ..., 1., 1., 1.]]],\n",
       "\n",
       "\n",
       "       [[[0., 0., 0., ..., 0., 0., 0.],\n",
       "         [0., 0., 0., ..., 0., 0., 0.],\n",
       "         [0., 0., 0., ..., 0., 0., 0.],\n",
       "         ...,\n",
       "         [0., 0., 0., ..., 0., 0., 0.],\n",
       "         [0., 0., 0., ..., 0., 0., 0.],\n",
       "         [0., 0., 0., ..., 0., 0., 0.]]]], dtype=float32)</pre></div></li><li class='xr-var-item'><div class='xr-var-name'><span>ssta_avg</span></div><div class='xr-var-dims'>(init, lead, yh, xh)</div><div class='xr-var-dtype'>float32</div><div class='xr-var-preview xr-preview'>0.146 0.1241 ... -0.09877 -0.0987</div><input id='attrs-ce1fe751-e654-4cc1-94df-c5c454a2d91a' class='xr-var-attrs-in' type='checkbox' ><label for='attrs-ce1fe751-e654-4cc1-94df-c5c454a2d91a' title='Show/Hide attributes'><svg class='icon xr-icon-file-text2'><use xlink:href='#icon-file-text2'></use></svg></label><input id='data-6911ea7c-e36e-43cb-8bbd-d4c1ac67277a' class='xr-var-data-in' type='checkbox'><label for='data-6911ea7c-e36e-43cb-8bbd-d4c1ac67277a' title='Show/Hide data repr'><svg class='icon xr-icon-database'><use xlink:href='#icon-database'></use></svg></label><div class='xr-var-attrs'><dl class='xr-attrs'><dt><span>units :</span></dt><dd>degC</dd><dt><span>long_name :</span></dt><dd>anomalous sea surface temperature ensemble mean</dd><dt><span>cell_methods :</span></dt><dd>area:mean yh:mean xh:mean time: mean</dd><dt><span>time_avg_info :</span></dt><dd>average_T1,average_T2,average_DT</dd><dt><span>standard_name :</span></dt><dd>sea_surface_temperature</dd><dt><span>period_of_climatology :</span></dt><dd>year 1993 to 1994</dd><dt><span>mhw_magnitude_definition :</span></dt><dd>ensemble mean of all sst anomaly</dd></dl></div><div class='xr-var-data'><pre>array([[[[ 0.1460247 ,  0.12412071,  0.10381508, ..., -0.02630043,\n",
       "          -0.02182388, -0.01713562],\n",
       "         [ 0.1737976 ,  0.15297508,  0.13364601, ..., -0.02172661,\n",
       "          -0.01845932, -0.01359558],\n",
       "         [ 0.18361855,  0.1662674 ,  0.14981651, ..., -0.01197052,\n",
       "          -0.00824356, -0.00235939],\n",
       "         ...,\n",
       "         [-0.07789421, -0.0820446 , -0.08745193, ..., -0.02836609,\n",
       "          -0.01869011, -0.00819969],\n",
       "         [-0.09970665, -0.10230255, -0.10514069, ..., -0.02079964,\n",
       "          -0.01163483, -0.00164986],\n",
       "         [-0.10521317, -0.10245705, -0.10096741, ..., -0.00854111,\n",
       "          -0.00157928,  0.00632286]]],\n",
       "\n",
       "\n",
       "       [[[ 0.47491646,  0.46095848,  0.44508934, ...,  0.40570068,\n",
       "           0.40740204,  0.40996552],\n",
       "         [ 0.4416771 ,  0.42263412,  0.40608788, ...,  0.40888405,\n",
       "           0.41196632,  0.415102  ],\n",
       "         [ 0.40732765,  0.3929081 ,  0.38422012, ...,  0.4006939 ,\n",
       "...\n",
       "           0.14744377,  0.14097404],\n",
       "         [ 0.25177956,  0.26234055,  0.27324104, ...,  0.15407562,\n",
       "           0.14585876,  0.1385231 ],\n",
       "         [ 0.25993347,  0.27355385,  0.28058052, ...,  0.15162659,\n",
       "           0.14391518,  0.13685417]]],\n",
       "\n",
       "\n",
       "       [[[-0.06353188, -0.06543159, -0.06686211, ..., -0.03606224,\n",
       "          -0.04434967, -0.0517807 ],\n",
       "         [-0.06328583, -0.06774712, -0.07298279, ..., -0.040205  ,\n",
       "          -0.04606628, -0.05109596],\n",
       "         [-0.05299377, -0.060812  , -0.06897736, ..., -0.04724121,\n",
       "          -0.05200958, -0.05547523],\n",
       "         ...,\n",
       "         [-0.14635468, -0.15350533, -0.16070938, ..., -0.11791992,\n",
       "          -0.11828423, -0.1189537 ],\n",
       "         [-0.14464188, -0.15470314, -0.16454124, ..., -0.10730553,\n",
       "          -0.10783768, -0.1088295 ],\n",
       "         [-0.14553261, -0.15787315, -0.1685009 , ..., -0.09942245,\n",
       "          -0.09876823, -0.09869957]]]], dtype=float32)</pre></div></li><li class='xr-var-item'><div class='xr-var-name'><span>ssta</span></div><div class='xr-var-dims'>(init, member, lead, yh, xh)</div><div class='xr-var-dtype'>float32</div><div class='xr-var-preview xr-preview'>dask.array&lt;chunksize=(1, 1, 1, 50, 50), meta=np.ndarray&gt;</div><input id='attrs-b5ff8c04-c898-409d-af13-ab2831c5dd82' class='xr-var-attrs-in' type='checkbox' ><label for='attrs-b5ff8c04-c898-409d-af13-ab2831c5dd82' title='Show/Hide attributes'><svg class='icon xr-icon-file-text2'><use xlink:href='#icon-file-text2'></use></svg></label><input id='data-5eac5254-fdff-4e44-877d-af4d8f1d3fcd' class='xr-var-data-in' type='checkbox'><label for='data-5eac5254-fdff-4e44-877d-af4d8f1d3fcd' title='Show/Hide data repr'><svg class='icon xr-icon-database'><use xlink:href='#icon-database'></use></svg></label><div class='xr-var-attrs'><dl class='xr-attrs'><dt><span>units :</span></dt><dd>degC</dd><dt><span>long_name :</span></dt><dd>anomalous sea surface temperature</dd><dt><span>cell_methods :</span></dt><dd>area:mean yh:mean xh:mean time: mean</dd><dt><span>time_avg_info :</span></dt><dd>average_T1,average_T2,average_DT</dd><dt><span>standard_name :</span></dt><dd>sea_surface_temperature</dd><dt><span>period_of_climatology :</span></dt><dd>year 1993 to 1994</dd></dl></div><div class='xr-var-data'><table>\n",
       "    <tr>\n",
       "        <td>\n",
       "            <table style=\"border-collapse: collapse;\">\n",
       "                <thead>\n",
       "                    <tr>\n",
       "                        <td> </td>\n",
       "                        <th> Array </th>\n",
       "                        <th> Chunk </th>\n",
       "                    </tr>\n",
       "                </thead>\n",
       "                <tbody>\n",
       "                    \n",
       "                    <tr>\n",
       "                        <th> Bytes </th>\n",
       "                        <td> 39.06 kiB </td>\n",
       "                        <td> 9.77 kiB </td>\n",
       "                    </tr>\n",
       "                    \n",
       "                    <tr>\n",
       "                        <th> Shape </th>\n",
       "                        <td> (4, 1, 1, 50, 50) </td>\n",
       "                        <td> (1, 1, 1, 50, 50) </td>\n",
       "                    </tr>\n",
       "                    <tr>\n",
       "                        <th> Dask graph </th>\n",
       "                        <td colspan=\"2\"> 4 chunks in 1 graph layer </td>\n",
       "                    </tr>\n",
       "                    <tr>\n",
       "                        <th> Data type </th>\n",
       "                        <td colspan=\"2\"> float32 numpy.ndarray </td>\n",
       "                    </tr>\n",
       "                </tbody>\n",
       "            </table>\n",
       "        </td>\n",
       "        <td>\n",
       "        <svg width=\"385\" height=\"187\" style=\"stroke:rgb(0,0,0);stroke-width:1\" >\n",
       "\n",
       "  <!-- Horizontal lines -->\n",
       "  <line x1=\"0\" y1=\"0\" x2=\"29\" y2=\"0\" style=\"stroke-width:2\" />\n",
       "  <line x1=\"0\" y1=\"9\" x2=\"29\" y2=\"9\" />\n",
       "  <line x1=\"0\" y1=\"18\" x2=\"29\" y2=\"18\" />\n",
       "  <line x1=\"0\" y1=\"27\" x2=\"29\" y2=\"27\" />\n",
       "  <line x1=\"0\" y1=\"37\" x2=\"29\" y2=\"37\" style=\"stroke-width:2\" />\n",
       "\n",
       "  <!-- Vertical lines -->\n",
       "  <line x1=\"0\" y1=\"0\" x2=\"0\" y2=\"37\" style=\"stroke-width:2\" />\n",
       "  <line x1=\"29\" y1=\"0\" x2=\"29\" y2=\"37\" style=\"stroke-width:2\" />\n",
       "\n",
       "  <!-- Colored Rectangle -->\n",
       "  <polygon points=\"0.0,0.0 29.030629010473877,0.0 29.030629010473877,37.326573699376404 0.0,37.326573699376404\" style=\"fill:#ECB172A0;stroke-width:0\"/>\n",
       "\n",
       "  <!-- Text -->\n",
       "  <text x=\"14.515315\" y=\"57.326574\" font-size=\"1.0rem\" font-weight=\"100\" text-anchor=\"middle\" >1</text>\n",
       "  <text x=\"49.030629\" y=\"18.663287\" font-size=\"1.0rem\" font-weight=\"100\" text-anchor=\"middle\" transform=\"rotate(0,49.030629,18.663287)\">4</text>\n",
       "\n",
       "\n",
       "  <!-- Horizontal lines -->\n",
       "  <line x1=\"99\" y1=\"0\" x2=\"116\" y2=\"17\" style=\"stroke-width:2\" />\n",
       "  <line x1=\"99\" y1=\"120\" x2=\"116\" y2=\"137\" style=\"stroke-width:2\" />\n",
       "\n",
       "  <!-- Vertical lines -->\n",
       "  <line x1=\"99\" y1=\"0\" x2=\"99\" y2=\"120\" style=\"stroke-width:2\" />\n",
       "  <line x1=\"116\" y1=\"17\" x2=\"116\" y2=\"137\" style=\"stroke-width:2\" />\n",
       "\n",
       "  <!-- Colored Rectangle -->\n",
       "  <polygon points=\"99.0,0.0 116.0768405943964,17.076840594396398 116.0768405943964,137.0768405943964 99.0,120.0\" style=\"fill:#ECB172A0;stroke-width:0\"/>\n",
       "\n",
       "  <!-- Horizontal lines -->\n",
       "  <line x1=\"99\" y1=\"0\" x2=\"219\" y2=\"0\" style=\"stroke-width:2\" />\n",
       "  <line x1=\"116\" y1=\"17\" x2=\"236\" y2=\"17\" style=\"stroke-width:2\" />\n",
       "\n",
       "  <!-- Vertical lines -->\n",
       "  <line x1=\"99\" y1=\"0\" x2=\"116\" y2=\"17\" style=\"stroke-width:2\" />\n",
       "  <line x1=\"219\" y1=\"0\" x2=\"236\" y2=\"17\" style=\"stroke-width:2\" />\n",
       "\n",
       "  <!-- Colored Rectangle -->\n",
       "  <polygon points=\"99.0,0.0 219.0,0.0 236.0768405943964,17.076840594396398 116.0768405943964,17.076840594396398\" style=\"fill:#ECB172A0;stroke-width:0\"/>\n",
       "\n",
       "  <!-- Horizontal lines -->\n",
       "  <line x1=\"116\" y1=\"17\" x2=\"236\" y2=\"17\" style=\"stroke-width:2\" />\n",
       "  <line x1=\"116\" y1=\"137\" x2=\"236\" y2=\"137\" style=\"stroke-width:2\" />\n",
       "\n",
       "  <!-- Vertical lines -->\n",
       "  <line x1=\"116\" y1=\"17\" x2=\"116\" y2=\"137\" style=\"stroke-width:2\" />\n",
       "  <line x1=\"236\" y1=\"17\" x2=\"236\" y2=\"137\" style=\"stroke-width:2\" />\n",
       "\n",
       "  <!-- Colored Rectangle -->\n",
       "  <polygon points=\"116.0768405943964,17.076840594396398 236.0768405943964,17.076840594396398 236.0768405943964,137.0768405943964 116.0768405943964,137.0768405943964\" style=\"fill:#ECB172A0;stroke-width:0\"/>\n",
       "\n",
       "  <!-- Text -->\n",
       "  <text x=\"176.076841\" y=\"157.076841\" font-size=\"1.0rem\" font-weight=\"100\" text-anchor=\"middle\" >50</text>\n",
       "  <text x=\"256.076841\" y=\"77.076841\" font-size=\"1.0rem\" font-weight=\"100\" text-anchor=\"middle\" transform=\"rotate(0,256.076841,77.076841)\">50</text>\n",
       "  <text x=\"97.538420\" y=\"148.538420\" font-size=\"1.0rem\" font-weight=\"100\" text-anchor=\"middle\" transform=\"rotate(45,97.538420,148.538420)\">1</text>\n",
       "</svg>\n",
       "        </td>\n",
       "    </tr>\n",
       "</table></div></li></ul></div></li><li class='xr-section-item'><input id='section-39bd2d52-aec7-43d6-a2b6-838c530100da' class='xr-section-summary-in' type='checkbox'  ><label for='section-39bd2d52-aec7-43d6-a2b6-838c530100da' class='xr-section-summary' >Indexes: <span>(6)</span></label><div class='xr-section-inline-details'></div><div class='xr-section-details'><ul class='xr-var-list'><li class='xr-var-item'><div class='xr-index-name'><div>xh</div></div><div class='xr-index-preview'>PandasIndex</div><div></div><input id='index-6ba961de-7fbc-4f82-8921-7bb84d45fb0e' class='xr-index-data-in' type='checkbox'/><label for='index-6ba961de-7fbc-4f82-8921-7bb84d45fb0e' title='Show/Hide index repr'><svg class='icon xr-icon-database'><use xlink:href='#icon-database'></use></svg></label><div class='xr-index-data'><pre>PandasIndex(Index([             -74.0, -73.92001342773438, -73.83999633789062,\n",
       "         -73.760009765625, -73.67999267578125, -73.60000610351562,\n",
       "       -73.51998901367188, -73.44000244140625,  -73.3599853515625,\n",
       "       -73.27999877929688, -73.20001220703125,  -73.1199951171875,\n",
       "       -73.04000854492188, -72.95999145507812,  -72.8800048828125,\n",
       "       -72.79998779296875, -72.72000122070312,  -72.6400146484375,\n",
       "       -72.55999755859375, -72.48001098632812, -72.39999389648438,\n",
       "       -72.32000732421875,   -72.239990234375, -72.16000366210938,\n",
       "       -72.07998657226562,              -72.0, -71.92001342773438,\n",
       "       -71.83999633789062,   -71.760009765625, -71.67999267578125,\n",
       "       -71.60000610351562, -71.51998901367188, -71.44000244140625,\n",
       "        -71.3599853515625, -71.27999877929688, -71.20001220703125,\n",
       "        -71.1199951171875, -71.04000854492188, -70.95999145507812,\n",
       "        -70.8800048828125, -70.79998779296875, -70.72000122070312,\n",
       "        -70.6400146484375, -70.55999755859375, -70.48001098632812,\n",
       "       -70.39999389648438, -70.32000732421875,   -70.239990234375,\n",
       "       -70.16000366210938, -70.07998657226562],\n",
       "      dtype=&#x27;float64&#x27;, name=&#x27;xh&#x27;))</pre></div></li><li class='xr-var-item'><div class='xr-index-name'><div>yh</div></div><div class='xr-index-preview'>PandasIndex</div><div></div><input id='index-951943b6-7eef-45a7-928c-622cdb411476' class='xr-index-data-in' type='checkbox'/><label for='index-951943b6-7eef-45a7-928c-622cdb411476' title='Show/Hide index repr'><svg class='icon xr-icon-database'><use xlink:href='#icon-database'></use></svg></label><div class='xr-index-data'><pre>PandasIndex(Index([13.162668228149414, 13.240553855895996, 13.318414688110352,\n",
       "        13.39625072479248, 13.474061012268066, 13.551846504211426,\n",
       "       13.629606246948242, 13.707341194152832, 13.785049438476562,\n",
       "        13.86273193359375, 13.940388679504395, 14.018019676208496,\n",
       "       14.095623970031738, 14.173202514648438, 14.250753402709961,\n",
       "       14.328278541564941, 14.405776977539062, 14.483247756958008,\n",
       "       14.560691833496094,  14.63810920715332, 14.715498924255371,\n",
       "       14.792860984802246, 14.870195388793945, 14.947502136230469,\n",
       "       15.024781227111816, 15.102032661437988, 15.179255485534668,\n",
       "       15.256449699401855, 15.333616256713867, 15.410754203796387,\n",
       "       15.487863540649414,  15.56494426727295, 15.641996383666992,\n",
       "       15.719018936157227, 15.796011924743652, 15.872976303100586,\n",
       "       15.949911117553711, 16.026817321777344,  16.10369300842285,\n",
       "       16.180538177490234, 16.257354736328125,  16.33414077758789,\n",
       "        16.41089630126953,  16.48762321472168,  16.56431770324707,\n",
       "       16.640981674194336,  16.71761703491211, 16.794219970703125,\n",
       "       16.870792388916016,  16.94733428955078],\n",
       "      dtype=&#x27;float64&#x27;, name=&#x27;yh&#x27;))</pre></div></li><li class='xr-var-item'><div class='xr-index-name'><div>lead</div></div><div class='xr-index-preview'>PandasIndex</div><div></div><input id='index-24ffa1d6-4a41-4521-a9f8-f299a3274329' class='xr-index-data-in' type='checkbox'/><label for='index-24ffa1d6-4a41-4521-a9f8-f299a3274329' title='Show/Hide index repr'><svg class='icon xr-icon-database'><use xlink:href='#icon-database'></use></svg></label><div class='xr-index-data'><pre>PandasIndex(Index([0], dtype=&#x27;int32&#x27;, name=&#x27;lead&#x27;))</pre></div></li><li class='xr-var-item'><div class='xr-index-name'><div>month</div></div><div class='xr-index-preview'>PandasIndex</div><div></div><input id='index-57cbf4e1-5526-41e3-a022-872466d06d21' class='xr-index-data-in' type='checkbox'/><label for='index-57cbf4e1-5526-41e3-a022-872466d06d21' title='Show/Hide index repr'><svg class='icon xr-icon-database'><use xlink:href='#icon-database'></use></svg></label><div class='xr-index-data'><pre>PandasIndex(Index([3, 6, 9, 12], dtype=&#x27;int64&#x27;, name=&#x27;month&#x27;))</pre></div></li><li class='xr-var-item'><div class='xr-index-name'><div>init</div></div><div class='xr-index-preview'>PandasIndex</div><div></div><input id='index-e4e6ff23-c65b-4703-ba23-7dba84c60a98' class='xr-index-data-in' type='checkbox'/><label for='index-e4e6ff23-c65b-4703-ba23-7dba84c60a98' title='Show/Hide index repr'><svg class='icon xr-icon-database'><use xlink:href='#icon-database'></use></svg></label><div class='xr-index-data'><pre>PandasIndex(DatetimeIndex([&#x27;1993-03-01&#x27;, &#x27;1993-06-01&#x27;, &#x27;1993-09-01&#x27;, &#x27;1993-12-01&#x27;], dtype=&#x27;datetime64[ns]&#x27;, name=&#x27;init&#x27;, freq=None))</pre></div></li><li class='xr-var-item'><div class='xr-index-name'><div>member</div></div><div class='xr-index-preview'>PandasIndex</div><div></div><input id='index-3ec9d886-7d33-4185-b92b-632e7784da5c' class='xr-index-data-in' type='checkbox'/><label for='index-3ec9d886-7d33-4185-b92b-632e7784da5c' title='Show/Hide index repr'><svg class='icon xr-icon-database'><use xlink:href='#icon-database'></use></svg></label><div class='xr-index-data'><pre>PandasIndex(Index([1], dtype=&#x27;int32&#x27;, name=&#x27;member&#x27;))</pre></div></li></ul></div></li><li class='xr-section-item'><input id='section-5ea5fd99-bf14-4957-a0eb-dc486e483f98' class='xr-section-summary-in' type='checkbox'  checked><label for='section-5ea5fd99-bf14-4957-a0eb-dc486e483f98' class='xr-section-summary' >Attributes: <span>(2)</span></label><div class='xr-section-inline-details'></div><div class='xr-section-details'><dl class='xr-attrs'><dt><span>period_of_quantile :</span></dt><dd>The 90 quantile from year 1993 to 1994</dd><dt><span>period_of_climatology :</span></dt><dd>year 1993 to 1994</dd></dl></div></li></ul></div></div>"
      ],
      "text/plain": [
       "<xarray.Dataset> Size: 261kB\n",
       "Dimensions:          (xh: 50, yh: 50, lead: 1, month: 4, init: 4, member: 1)\n",
       "Coordinates:\n",
       "  * xh               (xh) float64 400B -74.0 -73.92 -73.84 ... -70.16 -70.08\n",
       "  * yh               (yh) float64 400B 13.16 13.24 13.32 ... 16.79 16.87 16.95\n",
       "    lon              (yh, xh) float32 10kB 286.0 286.1 286.2 ... 289.8 289.9\n",
       "    lat              (yh, xh) float32 10kB 13.16 13.16 13.16 ... 16.95 16.95\n",
       "  * lead             (lead) int32 4B 0\n",
       "    quantile         (month) float64 32B 0.9 0.9 0.9 0.9\n",
       "  * month            (month) int64 32B 3 6 9 12\n",
       "  * init             (init) datetime64[ns] 32B 1993-03-01 ... 1993-12-01\n",
       "  * member           (member) int32 4B 1\n",
       "Data variables:\n",
       "    tos_threshold90  (month, lead, yh, xh) float64 80kB 0.1168 ... 0.07896\n",
       "    tos_climo        (month, lead, yh, xh) float32 40kB 25.96 25.96 ... 27.36\n",
       "    mhw_prob90       (init, lead, yh, xh) float32 40kB 1.0 1.0 1.0 ... 0.0 0.0\n",
       "    ssta_avg         (init, lead, yh, xh) float32 40kB 0.146 0.1241 ... -0.0987\n",
       "    ssta             (init, member, lead, yh, xh) float32 40kB dask.array<chunksize=(1, 1, 1, 50, 50), meta=np.ndarray>\n",
       "Attributes:\n",
       "    period_of_quantile:     The 90 quantile from year 1993 to 1994\n",
       "    period_of_climatology:  year 1993 to 1994"
      ]
     },
     "execution_count": 11,
     "metadata": {},
     "output_type": "execute_result"
    }
   ],
   "source": [
    "ds_mhw_batch"
   ]
  },
  {
   "cell_type": "code",
   "execution_count": 2,
   "metadata": {},
   "outputs": [
    {
     "name": "stdout",
     "output_type": "stream",
     "text": [
      "<Client: 'inproc://10.173.16.6/913837/1' processes=1 threads=64, memory=754.04 GiB>\n",
      "http://10.173.16.6:8787/status\n"
     ]
    }
   ],
   "source": [
    "### open local cluster\n",
    "client = Client(processes=False)\n",
    "print(client)\n",
    "print(client.cluster.dashboard_link)"
   ]
  },
  {
   "cell_type": "code",
   "execution_count": 16,
   "metadata": {},
   "outputs": [],
   "source": [
    "FORECAST = mom6_io.MOM6Forecast(\n",
    "    var='tos',\n",
    "    data_relative_dir='forecast/',\n",
    "    static_relative_dir='static/',\n",
    "    grid='raw',\n",
    "    source='local')"
   ]
  },
  {
   "cell_type": "code",
   "execution_count": 17,
   "metadata": {},
   "outputs": [],
   "source": [
    "ds_forecast = FORECAST.get_all()\n",
    "ds_forecast = ds_forecast.rename({'geolon':'lon','geolat':'lat'})"
   ]
  },
  {
   "cell_type": "code",
   "execution_count": 18,
   "metadata": {},
   "outputs": [
    {
     "data": {
      "text/plain": [
       "array(32.77348, dtype=float32)"
      ]
     },
     "execution_count": 18,
     "metadata": {},
     "output_type": "execute_result"
    }
   ],
   "source": [
    "# test ForecastClimatology Class generate_climo method\n",
    "class_forecast_climo = mom6_statistics.ForecastClimatology(ds_forecast,'tos')\n",
    "da_climo = class_forecast_climo.generate_climo(1993,1993,'compute')\n",
    "da_climo.max().data"
   ]
  },
  {
   "cell_type": "code",
   "execution_count": 6,
   "metadata": {},
   "outputs": [
    {
     "data": {
      "text/plain": [
       "array(9.948374, dtype=float32)"
      ]
     },
     "execution_count": 6,
     "metadata": {},
     "output_type": "execute_result"
    }
   ],
   "source": [
    "# test ForecastClimatology Class generate_anom_batch method\n",
    "dict_anom = class_forecast_climo.generate_anom_batch(1993,1993,1993,1993,'compute',precompute_climo=False)\n",
    "dict_anom['anomaly'].max().data"
   ]
  },
  {
   "cell_type": "code",
   "execution_count": 7,
   "metadata": {},
   "outputs": [
    {
     "data": {
      "text/plain": [
       "array(10.367273, dtype=float32)"
      ]
     },
     "execution_count": 7,
     "metadata": {},
     "output_type": "execute_result"
    }
   ],
   "source": [
    "# test ForecastClimatology Class generate_anom_batch method with prescribed climo\n",
    "dict_anom = class_forecast_climo.generate_anom_batch(1993,1993,1993,1993,'compute',precompute_climo=True,da_climo = da_climo)\n",
    "dict_anom['anomaly'].max().data"
   ]
  },
  {
   "cell_type": "code",
   "execution_count": 9,
   "metadata": {},
   "outputs": [
    {
     "ename": "ValueError",
     "evalue": "input climatology dataarray does not have attribute name \"period_of_climatology\" in the format of year \"climo_start_year\" to \"climo_end_year\"",
     "output_type": "error",
     "traceback": [
      "\u001b[0;31m---------------------------------------------------------------------------\u001b[0m",
      "\u001b[0;31mKeyError\u001b[0m                                  Traceback (most recent call last)",
      "File \u001b[0;32m~/regional_mom/mom6/mom6_module/mom6_statistics.py:266\u001b[0m, in \u001b[0;36mForecastClimatology.generate_anom_batch\u001b[0;34m(self, climo_start_year, climo_end_year, anom_start_year, anom_end_year, dask_option, precompute_climo, da_climo)\u001b[0m\n\u001b[1;32m    265\u001b[0m \u001b[38;5;28;01mtry\u001b[39;00m:\n\u001b[0;32m--> 266\u001b[0m     period_string \u001b[38;5;241m=\u001b[39m \u001b[43mda_climo\u001b[49m\u001b[38;5;241;43m.\u001b[39;49m\u001b[43mattrs\u001b[49m\u001b[43m[\u001b[49m\u001b[38;5;124;43m'\u001b[39;49m\u001b[38;5;124;43mperiod_of_climatology\u001b[39;49m\u001b[38;5;124;43m'\u001b[39;49m\u001b[43m]\u001b[49m\n\u001b[1;32m    267\u001b[0m \u001b[38;5;28;01mexcept\u001b[39;00m \u001b[38;5;167;01mKeyError\u001b[39;00m \u001b[38;5;28;01mas\u001b[39;00m e:\n",
      "\u001b[0;31mKeyError\u001b[0m: 'period_of_climatology'",
      "\nThe above exception was the direct cause of the following exception:\n",
      "\u001b[0;31mValueError\u001b[0m                                Traceback (most recent call last)",
      "Cell \u001b[0;32mIn[9], line 4\u001b[0m\n\u001b[1;32m      2\u001b[0m da_climo_error \u001b[38;5;241m=\u001b[39m da_climo\u001b[38;5;241m.\u001b[39mcopy()\n\u001b[1;32m      3\u001b[0m \u001b[38;5;28;01mdel\u001b[39;00m da_climo_error\u001b[38;5;241m.\u001b[39mattrs[\u001b[38;5;124m'\u001b[39m\u001b[38;5;124mperiod_of_climatology\u001b[39m\u001b[38;5;124m'\u001b[39m]\n\u001b[0;32m----> 4\u001b[0m dict_anom \u001b[38;5;241m=\u001b[39m \u001b[43mclass_forecast_climo\u001b[49m\u001b[38;5;241;43m.\u001b[39;49m\u001b[43mgenerate_anom_batch\u001b[49m\u001b[43m(\u001b[49m\u001b[38;5;241;43m1993\u001b[39;49m\u001b[43m,\u001b[49m\u001b[38;5;241;43m1993\u001b[39;49m\u001b[43m,\u001b[49m\u001b[38;5;241;43m1993\u001b[39;49m\u001b[43m,\u001b[49m\u001b[38;5;241;43m1993\u001b[39;49m\u001b[43m,\u001b[49m\u001b[38;5;124;43m'\u001b[39;49m\u001b[38;5;124;43mcompute\u001b[39;49m\u001b[38;5;124;43m'\u001b[39;49m\u001b[43m,\u001b[49m\u001b[43mprecompute_climo\u001b[49m\u001b[38;5;241;43m=\u001b[39;49m\u001b[38;5;28;43;01mTrue\u001b[39;49;00m\u001b[43m,\u001b[49m\u001b[43mda_climo\u001b[49m\u001b[43m \u001b[49m\u001b[38;5;241;43m=\u001b[39;49m\u001b[43m \u001b[49m\u001b[43mda_climo_error\u001b[49m\u001b[43m)\u001b[49m\n",
      "File \u001b[0;32m~/regional_mom/mom6/mom6_module/mom6_statistics.py:268\u001b[0m, in \u001b[0;36mForecastClimatology.generate_anom_batch\u001b[0;34m(self, climo_start_year, climo_end_year, anom_start_year, anom_end_year, dask_option, precompute_climo, da_climo)\u001b[0m\n\u001b[1;32m    266\u001b[0m     period_string \u001b[38;5;241m=\u001b[39m da_climo\u001b[38;5;241m.\u001b[39mattrs[\u001b[38;5;124m'\u001b[39m\u001b[38;5;124mperiod_of_climatology\u001b[39m\u001b[38;5;124m'\u001b[39m]\n\u001b[1;32m    267\u001b[0m \u001b[38;5;28;01mexcept\u001b[39;00m \u001b[38;5;167;01mKeyError\u001b[39;00m \u001b[38;5;28;01mas\u001b[39;00m e:\n\u001b[0;32m--> 268\u001b[0m     \u001b[38;5;28;01mraise\u001b[39;00m \u001b[38;5;167;01mValueError\u001b[39;00m(\n\u001b[1;32m    269\u001b[0m         \u001b[38;5;124m'\u001b[39m\u001b[38;5;124minput climatology dataarray does not have \u001b[39m\u001b[38;5;124m'\u001b[39m\u001b[38;5;241m+\u001b[39m\n\u001b[1;32m    270\u001b[0m         \u001b[38;5;124m'\u001b[39m\u001b[38;5;124mattribute name \u001b[39m\u001b[38;5;124m\"\u001b[39m\u001b[38;5;124mperiod_of_climatology\u001b[39m\u001b[38;5;124m\"\u001b[39m\u001b[38;5;124m in \u001b[39m\u001b[38;5;124m'\u001b[39m\u001b[38;5;241m+\u001b[39m\n\u001b[1;32m    271\u001b[0m         \u001b[38;5;124m'\u001b[39m\u001b[38;5;124mthe format of year \u001b[39m\u001b[38;5;124m\"\u001b[39m\u001b[38;5;124mclimo_start_year\u001b[39m\u001b[38;5;124m\"\u001b[39m\u001b[38;5;124m to \u001b[39m\u001b[38;5;124m\"\u001b[39m\u001b[38;5;124mclimo_end_year\u001b[39m\u001b[38;5;124m\"\u001b[39m\u001b[38;5;124m'\u001b[39m\n\u001b[1;32m    272\u001b[0m     ) \u001b[38;5;28;01mfrom\u001b[39;00m \u001b[38;5;21;01me\u001b[39;00m\n\u001b[1;32m    274\u001b[0m period_string_split \u001b[38;5;241m=\u001b[39m period_string\u001b[38;5;241m.\u001b[39msplit()\n\u001b[1;32m    275\u001b[0m \u001b[38;5;66;03m# reassigning the start and end based on the climo data\u001b[39;00m\n",
      "\u001b[0;31mValueError\u001b[0m: input climatology dataarray does not have attribute name \"period_of_climatology\" in the format of year \"climo_start_year\" to \"climo_end_year\""
     ]
    }
   ],
   "source": [
    "# test ForecastClimatology Class generate_anom_batch method with wrong prescribed climo should have ValueError\n",
    "da_climo_error = da_climo.copy()\n",
    "del da_climo_error.attrs['period_of_climatology']\n",
    "dict_anom = class_forecast_climo.generate_anom_batch(1993,1993,1993,1993,'compute',precompute_climo=True,da_climo = da_climo_error)\n"
   ]
  },
  {
   "cell_type": "code",
   "execution_count": 10,
   "metadata": {},
   "outputs": [
    {
     "ename": "ValueError",
     "evalue": "The data array is empty based on the kwarg climo_start_year & climo_end_year",
     "output_type": "error",
     "traceback": [
      "\u001b[0;31m---------------------------------------------------------------------------\u001b[0m",
      "\u001b[0;31mValueError\u001b[0m                                Traceback (most recent call last)",
      "Cell \u001b[0;32mIn[10], line 2\u001b[0m\n\u001b[1;32m      1\u001b[0m \u001b[38;5;66;03m# test ForecastClimatology Class generate_anom_batch method with wrong climo year\u001b[39;00m\n\u001b[0;32m----> 2\u001b[0m dict_anom \u001b[38;5;241m=\u001b[39m \u001b[43mclass_forecast_climo\u001b[49m\u001b[38;5;241;43m.\u001b[39;49m\u001b[43mgenerate_anom_batch\u001b[49m\u001b[43m(\u001b[49m\u001b[38;5;241;43m1994\u001b[39;49m\u001b[43m,\u001b[49m\u001b[38;5;241;43m1993\u001b[39;49m\u001b[43m,\u001b[49m\u001b[38;5;241;43m1993\u001b[39;49m\u001b[43m,\u001b[49m\u001b[38;5;241;43m1993\u001b[39;49m\u001b[43m,\u001b[49m\u001b[38;5;124;43m'\u001b[39;49m\u001b[38;5;124;43mcompute\u001b[39;49m\u001b[38;5;124;43m'\u001b[39;49m\u001b[43m,\u001b[49m\u001b[43mprecompute_climo\u001b[49m\u001b[38;5;241;43m=\u001b[39;49m\u001b[38;5;28;43;01mFalse\u001b[39;49;00m\u001b[43m)\u001b[49m\n",
      "File \u001b[0;32m~/regional_mom/mom6/mom6_module/mom6_statistics.py:281\u001b[0m, in \u001b[0;36mForecastClimatology.generate_anom_batch\u001b[0;34m(self, climo_start_year, climo_end_year, anom_start_year, anom_end_year, dask_option, precompute_climo, da_climo)\u001b[0m\n\u001b[1;32m    277\u001b[0m     climo_end_year \u001b[38;5;241m=\u001b[39m \u001b[38;5;28mint\u001b[39m(period_string_split[\u001b[38;5;241m3\u001b[39m])\n\u001b[1;32m    279\u001b[0m \u001b[38;5;28;01melse\u001b[39;00m:\n\u001b[1;32m    280\u001b[0m     \u001b[38;5;66;03m# getting the climatology\u001b[39;00m\n\u001b[0;32m--> 281\u001b[0m     da_climo \u001b[38;5;241m=\u001b[39m \u001b[38;5;28;43mself\u001b[39;49m\u001b[38;5;241;43m.\u001b[39;49m\u001b[43mgenerate_climo\u001b[49m\u001b[43m(\u001b[49m\n\u001b[1;32m    282\u001b[0m \u001b[43m        \u001b[49m\u001b[43mclimo_start_year\u001b[49m\u001b[43m,\u001b[49m\n\u001b[1;32m    283\u001b[0m \u001b[43m        \u001b[49m\u001b[43mclimo_end_year\u001b[49m\u001b[43m,\u001b[49m\n\u001b[1;32m    284\u001b[0m \u001b[43m        \u001b[49m\u001b[43mdask_option\u001b[49m\u001b[38;5;241;43m=\u001b[39;49m\u001b[38;5;124;43m'\u001b[39;49m\u001b[38;5;124;43mcompute\u001b[39;49m\u001b[38;5;124;43m'\u001b[39;49m\n\u001b[1;32m    285\u001b[0m \u001b[43m    \u001b[49m\u001b[43m)\u001b[49m\n\u001b[1;32m    287\u001b[0m da_data \u001b[38;5;241m=\u001b[39m (\n\u001b[1;32m    288\u001b[0m     ds_data[\u001b[38;5;28mself\u001b[39m\u001b[38;5;241m.\u001b[39mvarname]\n\u001b[1;32m    289\u001b[0m     \u001b[38;5;241m.\u001b[39msel({\u001b[38;5;28mself\u001b[39m\u001b[38;5;241m.\u001b[39minit :\n\u001b[0;32m   (...)\u001b[0m\n\u001b[1;32m    293\u001b[0m     })\n\u001b[1;32m    294\u001b[0m )\n\u001b[1;32m    296\u001b[0m \u001b[38;5;66;03m# test if the da_data crop period exist\u001b[39;00m\n",
      "File \u001b[0;32m~/regional_mom/mom6/mom6_module/mom6_statistics.py:172\u001b[0m, in \u001b[0;36mForecastClimatology.generate_climo\u001b[0;34m(self, climo_start_year, climo_end_year, dask_option)\u001b[0m\n\u001b[1;32m    170\u001b[0m \u001b[38;5;66;03m# test if the da_data crop period exist\u001b[39;00m\n\u001b[1;32m    171\u001b[0m \u001b[38;5;28;01mif\u001b[39;00m \u001b[38;5;28mlen\u001b[39m(da_data[\u001b[38;5;28mself\u001b[39m\u001b[38;5;241m.\u001b[39minit]\u001b[38;5;241m.\u001b[39mdata) \u001b[38;5;241m==\u001b[39m \u001b[38;5;241m0\u001b[39m:\n\u001b[0;32m--> 172\u001b[0m     \u001b[38;5;28;01mraise\u001b[39;00m \u001b[38;5;167;01mValueError\u001b[39;00m(\n\u001b[1;32m    173\u001b[0m         \u001b[38;5;124m\"\u001b[39m\u001b[38;5;124mThe data array is empty based on the kwarg \u001b[39m\u001b[38;5;124m\"\u001b[39m\u001b[38;5;241m+\u001b[39m\n\u001b[1;32m    174\u001b[0m         \u001b[38;5;124m\"\u001b[39m\u001b[38;5;124mclimo_start_year & climo_end_year\u001b[39m\u001b[38;5;124m\"\u001b[39m\n\u001b[1;32m    175\u001b[0m     )\n\u001b[1;32m    177\u001b[0m da_climo \u001b[38;5;241m=\u001b[39m (\n\u001b[1;32m    178\u001b[0m     da_data\n\u001b[1;32m    179\u001b[0m     \u001b[38;5;241m.\u001b[39mmean(dim\u001b[38;5;241m=\u001b[39m\u001b[38;5;124mf\u001b[39m\u001b[38;5;124m'\u001b[39m\u001b[38;5;132;01m{\u001b[39;00m\u001b[38;5;28mself\u001b[39m\u001b[38;5;241m.\u001b[39mmem\u001b[38;5;132;01m}\u001b[39;00m\u001b[38;5;124m'\u001b[39m)\n\u001b[1;32m    180\u001b[0m     \u001b[38;5;241m.\u001b[39mgroupby(\u001b[38;5;124mf\u001b[39m\u001b[38;5;124m'\u001b[39m\u001b[38;5;132;01m{\u001b[39;00m\u001b[38;5;28mself\u001b[39m\u001b[38;5;241m.\u001b[39minit\u001b[38;5;132;01m}\u001b[39;00m\u001b[38;5;124m.\u001b[39m\u001b[38;5;132;01m{\u001b[39;00m\u001b[38;5;28mself\u001b[39m\u001b[38;5;241m.\u001b[39mtfreq\u001b[38;5;132;01m}\u001b[39;00m\u001b[38;5;124m'\u001b[39m)\n\u001b[1;32m    181\u001b[0m     \u001b[38;5;241m.\u001b[39mmean(dim\u001b[38;5;241m=\u001b[39m\u001b[38;5;124mf\u001b[39m\u001b[38;5;124m'\u001b[39m\u001b[38;5;132;01m{\u001b[39;00m\u001b[38;5;28mself\u001b[39m\u001b[38;5;241m.\u001b[39minit\u001b[38;5;132;01m}\u001b[39;00m\u001b[38;5;124m'\u001b[39m)\n\u001b[1;32m    182\u001b[0m )\n\u001b[1;32m    184\u001b[0m da_climo\u001b[38;5;241m.\u001b[39mattrs[\u001b[38;5;124m'\u001b[39m\u001b[38;5;124mperiod_of_climatology\u001b[39m\u001b[38;5;124m'\u001b[39m] \u001b[38;5;241m=\u001b[39m \u001b[38;5;124mf\u001b[39m\u001b[38;5;124m'\u001b[39m\u001b[38;5;124myear \u001b[39m\u001b[38;5;132;01m{\u001b[39;00mclimo_start_year\u001b[38;5;132;01m}\u001b[39;00m\u001b[38;5;124m to \u001b[39m\u001b[38;5;132;01m{\u001b[39;00mclimo_end_year\u001b[38;5;132;01m}\u001b[39;00m\u001b[38;5;124m'\u001b[39m\n",
      "\u001b[0;31mValueError\u001b[0m: The data array is empty based on the kwarg climo_start_year & climo_end_year"
     ]
    }
   ],
   "source": [
    "# test ForecastClimatology Class generate_anom_batch method with wrong climo year\n",
    "dict_anom = class_forecast_climo.generate_anom_batch(1994,1993,1993,1993,'compute',precompute_climo=False)\n"
   ]
  },
  {
   "cell_type": "code",
   "execution_count": 11,
   "metadata": {},
   "outputs": [
    {
     "ename": "ValueError",
     "evalue": "The data array is empty based on the kwarg anom_start_year & anom_end_year",
     "output_type": "error",
     "traceback": [
      "\u001b[0;31m---------------------------------------------------------------------------\u001b[0m",
      "\u001b[0;31mValueError\u001b[0m                                Traceback (most recent call last)",
      "Cell \u001b[0;32mIn[11], line 2\u001b[0m\n\u001b[1;32m      1\u001b[0m \u001b[38;5;66;03m# test ForecastClimatology Class generate_anom_batch method with wrong anomaly year\u001b[39;00m\n\u001b[0;32m----> 2\u001b[0m dict_anom \u001b[38;5;241m=\u001b[39m \u001b[43mclass_forecast_climo\u001b[49m\u001b[38;5;241;43m.\u001b[39;49m\u001b[43mgenerate_anom_batch\u001b[49m\u001b[43m(\u001b[49m\u001b[38;5;241;43m1993\u001b[39;49m\u001b[43m,\u001b[49m\u001b[38;5;241;43m1994\u001b[39;49m\u001b[43m,\u001b[49m\u001b[38;5;241;43m1994\u001b[39;49m\u001b[43m,\u001b[49m\u001b[38;5;241;43m1993\u001b[39;49m\u001b[43m,\u001b[49m\u001b[38;5;124;43m'\u001b[39;49m\u001b[38;5;124;43mcompute\u001b[39;49m\u001b[38;5;124;43m'\u001b[39;49m\u001b[43m,\u001b[49m\u001b[43mprecompute_climo\u001b[49m\u001b[38;5;241;43m=\u001b[39;49m\u001b[38;5;28;43;01mFalse\u001b[39;49;00m\u001b[43m)\u001b[49m\n",
      "File \u001b[0;32m~/regional_mom/mom6/mom6_module/mom6_statistics.py:298\u001b[0m, in \u001b[0;36mForecastClimatology.generate_anom_batch\u001b[0;34m(self, climo_start_year, climo_end_year, anom_start_year, anom_end_year, dask_option, precompute_climo, da_climo)\u001b[0m\n\u001b[1;32m    296\u001b[0m \u001b[38;5;66;03m# test if the da_data crop period exist\u001b[39;00m\n\u001b[1;32m    297\u001b[0m \u001b[38;5;28;01mif\u001b[39;00m \u001b[38;5;28mlen\u001b[39m(da_data[\u001b[38;5;28mself\u001b[39m\u001b[38;5;241m.\u001b[39minit]\u001b[38;5;241m.\u001b[39mdata)\u001b[38;5;241m==\u001b[39m\u001b[38;5;241m0\u001b[39m:\n\u001b[0;32m--> 298\u001b[0m     \u001b[38;5;28;01mraise\u001b[39;00m \u001b[38;5;167;01mValueError\u001b[39;00m(\n\u001b[1;32m    299\u001b[0m         \u001b[38;5;124m\"\u001b[39m\u001b[38;5;124mThe data array is empty based on the kwarg \u001b[39m\u001b[38;5;124m\"\u001b[39m\u001b[38;5;241m+\u001b[39m\n\u001b[1;32m    300\u001b[0m         \u001b[38;5;124m\"\u001b[39m\u001b[38;5;124manom_start_year & anom_end_year\u001b[39m\u001b[38;5;124m\"\u001b[39m\n\u001b[1;32m    301\u001b[0m     )\n\u001b[1;32m    303\u001b[0m da_anom \u001b[38;5;241m=\u001b[39m (\n\u001b[1;32m    304\u001b[0m     da_data\u001b[38;5;241m.\u001b[39mgroupby(\u001b[38;5;124mf\u001b[39m\u001b[38;5;124m'\u001b[39m\u001b[38;5;132;01m{\u001b[39;00m\u001b[38;5;28mself\u001b[39m\u001b[38;5;241m.\u001b[39minit\u001b[38;5;132;01m}\u001b[39;00m\u001b[38;5;124m.\u001b[39m\u001b[38;5;132;01m{\u001b[39;00m\u001b[38;5;28mself\u001b[39m\u001b[38;5;241m.\u001b[39mtfreq\u001b[38;5;132;01m}\u001b[39;00m\u001b[38;5;124m'\u001b[39m)\n\u001b[1;32m    305\u001b[0m     \u001b[38;5;241m-\u001b[39m da_climo\n\u001b[1;32m    306\u001b[0m )\n\u001b[1;32m    308\u001b[0m da_anom\u001b[38;5;241m.\u001b[39mattrs[\u001b[38;5;124m'\u001b[39m\u001b[38;5;124mperiod_of_climatology\u001b[39m\u001b[38;5;124m'\u001b[39m] \u001b[38;5;241m=\u001b[39m \u001b[38;5;124mf\u001b[39m\u001b[38;5;124m'\u001b[39m\u001b[38;5;124myear \u001b[39m\u001b[38;5;132;01m{\u001b[39;00mclimo_start_year\u001b[38;5;132;01m}\u001b[39;00m\u001b[38;5;124m to \u001b[39m\u001b[38;5;132;01m{\u001b[39;00mclimo_end_year\u001b[38;5;132;01m}\u001b[39;00m\u001b[38;5;124m'\u001b[39m\n",
      "\u001b[0;31mValueError\u001b[0m: The data array is empty based on the kwarg anom_start_year & anom_end_year"
     ]
    }
   ],
   "source": [
    "# test ForecastClimatology Class generate_anom_batch method with wrong anomaly year\n",
    "dict_anom = class_forecast_climo.generate_anom_batch(1993,1994,1994,1993,'compute',precompute_climo=False)\n"
   ]
  },
  {
   "cell_type": "code",
   "execution_count": 12,
   "metadata": {},
   "outputs": [
    {
     "ename": "ValueError",
     "evalue": "The data array is empty based on the kwarg anom_start_year & anom_end_year",
     "output_type": "error",
     "traceback": [
      "\u001b[0;31m---------------------------------------------------------------------------\u001b[0m",
      "\u001b[0;31mValueError\u001b[0m                                Traceback (most recent call last)",
      "Cell \u001b[0;32mIn[12], line 2\u001b[0m\n\u001b[1;32m      1\u001b[0m \u001b[38;5;66;03m# test ForecastClimatology Class generate_anom_batch method with wrong anomaly year\u001b[39;00m\n\u001b[0;32m----> 2\u001b[0m dict_anom \u001b[38;5;241m=\u001b[39m \u001b[43mclass_forecast_climo\u001b[49m\u001b[38;5;241;43m.\u001b[39;49m\u001b[43mgenerate_anom_batch\u001b[49m\u001b[43m(\u001b[49m\u001b[38;5;241;43m1993\u001b[39;49m\u001b[43m,\u001b[49m\u001b[38;5;241;43m1994\u001b[39;49m\u001b[43m,\u001b[49m\u001b[38;5;241;43m1991\u001b[39;49m\u001b[43m,\u001b[49m\u001b[38;5;241;43m1992\u001b[39;49m\u001b[43m,\u001b[49m\u001b[38;5;124;43m'\u001b[39;49m\u001b[38;5;124;43mcompute\u001b[39;49m\u001b[38;5;124;43m'\u001b[39;49m\u001b[43m,\u001b[49m\u001b[43mprecompute_climo\u001b[49m\u001b[38;5;241;43m=\u001b[39;49m\u001b[38;5;28;43;01mFalse\u001b[39;49;00m\u001b[43m)\u001b[49m\n",
      "File \u001b[0;32m~/regional_mom/mom6/mom6_module/mom6_statistics.py:298\u001b[0m, in \u001b[0;36mForecastClimatology.generate_anom_batch\u001b[0;34m(self, climo_start_year, climo_end_year, anom_start_year, anom_end_year, dask_option, precompute_climo, da_climo)\u001b[0m\n\u001b[1;32m    296\u001b[0m \u001b[38;5;66;03m# test if the da_data crop period exist\u001b[39;00m\n\u001b[1;32m    297\u001b[0m \u001b[38;5;28;01mif\u001b[39;00m \u001b[38;5;28mlen\u001b[39m(da_data[\u001b[38;5;28mself\u001b[39m\u001b[38;5;241m.\u001b[39minit]\u001b[38;5;241m.\u001b[39mdata)\u001b[38;5;241m==\u001b[39m\u001b[38;5;241m0\u001b[39m:\n\u001b[0;32m--> 298\u001b[0m     \u001b[38;5;28;01mraise\u001b[39;00m \u001b[38;5;167;01mValueError\u001b[39;00m(\n\u001b[1;32m    299\u001b[0m         \u001b[38;5;124m\"\u001b[39m\u001b[38;5;124mThe data array is empty based on the kwarg \u001b[39m\u001b[38;5;124m\"\u001b[39m\u001b[38;5;241m+\u001b[39m\n\u001b[1;32m    300\u001b[0m         \u001b[38;5;124m\"\u001b[39m\u001b[38;5;124manom_start_year & anom_end_year\u001b[39m\u001b[38;5;124m\"\u001b[39m\n\u001b[1;32m    301\u001b[0m     )\n\u001b[1;32m    303\u001b[0m da_anom \u001b[38;5;241m=\u001b[39m (\n\u001b[1;32m    304\u001b[0m     da_data\u001b[38;5;241m.\u001b[39mgroupby(\u001b[38;5;124mf\u001b[39m\u001b[38;5;124m'\u001b[39m\u001b[38;5;132;01m{\u001b[39;00m\u001b[38;5;28mself\u001b[39m\u001b[38;5;241m.\u001b[39minit\u001b[38;5;132;01m}\u001b[39;00m\u001b[38;5;124m.\u001b[39m\u001b[38;5;132;01m{\u001b[39;00m\u001b[38;5;28mself\u001b[39m\u001b[38;5;241m.\u001b[39mtfreq\u001b[38;5;132;01m}\u001b[39;00m\u001b[38;5;124m'\u001b[39m)\n\u001b[1;32m    305\u001b[0m     \u001b[38;5;241m-\u001b[39m da_climo\n\u001b[1;32m    306\u001b[0m )\n\u001b[1;32m    308\u001b[0m da_anom\u001b[38;5;241m.\u001b[39mattrs[\u001b[38;5;124m'\u001b[39m\u001b[38;5;124mperiod_of_climatology\u001b[39m\u001b[38;5;124m'\u001b[39m] \u001b[38;5;241m=\u001b[39m \u001b[38;5;124mf\u001b[39m\u001b[38;5;124m'\u001b[39m\u001b[38;5;124myear \u001b[39m\u001b[38;5;132;01m{\u001b[39;00mclimo_start_year\u001b[38;5;132;01m}\u001b[39;00m\u001b[38;5;124m to \u001b[39m\u001b[38;5;132;01m{\u001b[39;00mclimo_end_year\u001b[38;5;132;01m}\u001b[39;00m\u001b[38;5;124m'\u001b[39m\n",
      "\u001b[0;31mValueError\u001b[0m: The data array is empty based on the kwarg anom_start_year & anom_end_year"
     ]
    }
   ],
   "source": [
    "# test ForecastClimatology Class generate_anom_batch method with wrong anomaly year\n",
    "dict_anom = class_forecast_climo.generate_anom_batch(1993,1994,1991,1992,'compute',precompute_climo=False)"
   ]
  },
  {
   "cell_type": "code",
   "execution_count": 13,
   "metadata": {},
   "outputs": [
    {
     "ename": "ValueError",
     "evalue": "The data array is empty based on the kwarg climo_start_year & climo_end_year",
     "output_type": "error",
     "traceback": [
      "\u001b[0;31m---------------------------------------------------------------------------\u001b[0m",
      "\u001b[0;31mValueError\u001b[0m                                Traceback (most recent call last)",
      "Cell \u001b[0;32mIn[13], line 3\u001b[0m\n\u001b[1;32m      1\u001b[0m \u001b[38;5;66;03m# test climo module empty array should have ValueError\u001b[39;00m\n\u001b[1;32m      2\u001b[0m class_forecast_climo \u001b[38;5;241m=\u001b[39m mom6_statistics\u001b[38;5;241m.\u001b[39mForecastClimatology(ds_forecast,\u001b[38;5;124m'\u001b[39m\u001b[38;5;124mtos\u001b[39m\u001b[38;5;124m'\u001b[39m)\n\u001b[0;32m----> 3\u001b[0m da_climo \u001b[38;5;241m=\u001b[39m \u001b[43mclass_forecast_climo\u001b[49m\u001b[38;5;241;43m.\u001b[39;49m\u001b[43mgenerate_climo\u001b[49m\u001b[43m(\u001b[49m\u001b[38;5;241;43m1994\u001b[39;49m\u001b[43m,\u001b[49m\u001b[38;5;241;43m1993\u001b[39;49m\u001b[43m,\u001b[49m\u001b[38;5;124;43m'\u001b[39;49m\u001b[38;5;124;43mcompute\u001b[39;49m\u001b[38;5;124;43m'\u001b[39;49m\u001b[43m)\u001b[49m\n",
      "File \u001b[0;32m~/regional_mom/mom6/mom6_module/mom6_statistics.py:172\u001b[0m, in \u001b[0;36mForecastClimatology.generate_climo\u001b[0;34m(self, climo_start_year, climo_end_year, dask_option)\u001b[0m\n\u001b[1;32m    170\u001b[0m \u001b[38;5;66;03m# test if the da_data crop period exist\u001b[39;00m\n\u001b[1;32m    171\u001b[0m \u001b[38;5;28;01mif\u001b[39;00m \u001b[38;5;28mlen\u001b[39m(da_data[\u001b[38;5;28mself\u001b[39m\u001b[38;5;241m.\u001b[39minit]\u001b[38;5;241m.\u001b[39mdata) \u001b[38;5;241m==\u001b[39m \u001b[38;5;241m0\u001b[39m:\n\u001b[0;32m--> 172\u001b[0m     \u001b[38;5;28;01mraise\u001b[39;00m \u001b[38;5;167;01mValueError\u001b[39;00m(\n\u001b[1;32m    173\u001b[0m         \u001b[38;5;124m\"\u001b[39m\u001b[38;5;124mThe data array is empty based on the kwarg \u001b[39m\u001b[38;5;124m\"\u001b[39m\u001b[38;5;241m+\u001b[39m\n\u001b[1;32m    174\u001b[0m         \u001b[38;5;124m\"\u001b[39m\u001b[38;5;124mclimo_start_year & climo_end_year\u001b[39m\u001b[38;5;124m\"\u001b[39m\n\u001b[1;32m    175\u001b[0m     )\n\u001b[1;32m    177\u001b[0m da_climo \u001b[38;5;241m=\u001b[39m (\n\u001b[1;32m    178\u001b[0m     da_data\n\u001b[1;32m    179\u001b[0m     \u001b[38;5;241m.\u001b[39mmean(dim\u001b[38;5;241m=\u001b[39m\u001b[38;5;124mf\u001b[39m\u001b[38;5;124m'\u001b[39m\u001b[38;5;132;01m{\u001b[39;00m\u001b[38;5;28mself\u001b[39m\u001b[38;5;241m.\u001b[39mmem\u001b[38;5;132;01m}\u001b[39;00m\u001b[38;5;124m'\u001b[39m)\n\u001b[1;32m    180\u001b[0m     \u001b[38;5;241m.\u001b[39mgroupby(\u001b[38;5;124mf\u001b[39m\u001b[38;5;124m'\u001b[39m\u001b[38;5;132;01m{\u001b[39;00m\u001b[38;5;28mself\u001b[39m\u001b[38;5;241m.\u001b[39minit\u001b[38;5;132;01m}\u001b[39;00m\u001b[38;5;124m.\u001b[39m\u001b[38;5;132;01m{\u001b[39;00m\u001b[38;5;28mself\u001b[39m\u001b[38;5;241m.\u001b[39mtfreq\u001b[38;5;132;01m}\u001b[39;00m\u001b[38;5;124m'\u001b[39m)\n\u001b[1;32m    181\u001b[0m     \u001b[38;5;241m.\u001b[39mmean(dim\u001b[38;5;241m=\u001b[39m\u001b[38;5;124mf\u001b[39m\u001b[38;5;124m'\u001b[39m\u001b[38;5;132;01m{\u001b[39;00m\u001b[38;5;28mself\u001b[39m\u001b[38;5;241m.\u001b[39minit\u001b[38;5;132;01m}\u001b[39;00m\u001b[38;5;124m'\u001b[39m)\n\u001b[1;32m    182\u001b[0m )\n\u001b[1;32m    184\u001b[0m da_climo\u001b[38;5;241m.\u001b[39mattrs[\u001b[38;5;124m'\u001b[39m\u001b[38;5;124mperiod_of_climatology\u001b[39m\u001b[38;5;124m'\u001b[39m] \u001b[38;5;241m=\u001b[39m \u001b[38;5;124mf\u001b[39m\u001b[38;5;124m'\u001b[39m\u001b[38;5;124myear \u001b[39m\u001b[38;5;132;01m{\u001b[39;00mclimo_start_year\u001b[38;5;132;01m}\u001b[39;00m\u001b[38;5;124m to \u001b[39m\u001b[38;5;132;01m{\u001b[39;00mclimo_end_year\u001b[38;5;132;01m}\u001b[39;00m\u001b[38;5;124m'\u001b[39m\n",
      "\u001b[0;31mValueError\u001b[0m: The data array is empty based on the kwarg climo_start_year & climo_end_year"
     ]
    }
   ],
   "source": [
    "# test climo module empty array should have ValueError\n",
    "class_forecast_climo = mom6_statistics.ForecastClimatology(ds_forecast,'tos')\n",
    "da_climo = class_forecast_climo.generate_climo(1994,1993,'compute')"
   ]
  },
  {
   "cell_type": "code",
   "execution_count": 14,
   "metadata": {},
   "outputs": [
    {
     "ename": "ValueError",
     "evalue": "The data array is empty based on the kwarg climo_start_year & climo_end_year",
     "output_type": "error",
     "traceback": [
      "\u001b[0;31m---------------------------------------------------------------------------\u001b[0m",
      "\u001b[0;31mValueError\u001b[0m                                Traceback (most recent call last)",
      "Cell \u001b[0;32mIn[14], line 3\u001b[0m\n\u001b[1;32m      1\u001b[0m \u001b[38;5;66;03m# test climo module empty array should have ValueError\u001b[39;00m\n\u001b[1;32m      2\u001b[0m class_forecast_climo \u001b[38;5;241m=\u001b[39m mom6_statistics\u001b[38;5;241m.\u001b[39mForecastClimatology(ds_forecast,\u001b[38;5;124m'\u001b[39m\u001b[38;5;124mtos\u001b[39m\u001b[38;5;124m'\u001b[39m)\n\u001b[0;32m----> 3\u001b[0m da_climo \u001b[38;5;241m=\u001b[39m \u001b[43mclass_forecast_climo\u001b[49m\u001b[38;5;241;43m.\u001b[39;49m\u001b[43mgenerate_climo\u001b[49m\u001b[43m(\u001b[49m\u001b[38;5;241;43m1991\u001b[39;49m\u001b[43m,\u001b[49m\u001b[38;5;241;43m1992\u001b[39;49m\u001b[43m,\u001b[49m\u001b[38;5;124;43m'\u001b[39;49m\u001b[38;5;124;43mcompute\u001b[39;49m\u001b[38;5;124;43m'\u001b[39;49m\u001b[43m)\u001b[49m\n",
      "File \u001b[0;32m~/regional_mom/mom6/mom6_module/mom6_statistics.py:172\u001b[0m, in \u001b[0;36mForecastClimatology.generate_climo\u001b[0;34m(self, climo_start_year, climo_end_year, dask_option)\u001b[0m\n\u001b[1;32m    170\u001b[0m \u001b[38;5;66;03m# test if the da_data crop period exist\u001b[39;00m\n\u001b[1;32m    171\u001b[0m \u001b[38;5;28;01mif\u001b[39;00m \u001b[38;5;28mlen\u001b[39m(da_data[\u001b[38;5;28mself\u001b[39m\u001b[38;5;241m.\u001b[39minit]\u001b[38;5;241m.\u001b[39mdata) \u001b[38;5;241m==\u001b[39m \u001b[38;5;241m0\u001b[39m:\n\u001b[0;32m--> 172\u001b[0m     \u001b[38;5;28;01mraise\u001b[39;00m \u001b[38;5;167;01mValueError\u001b[39;00m(\n\u001b[1;32m    173\u001b[0m         \u001b[38;5;124m\"\u001b[39m\u001b[38;5;124mThe data array is empty based on the kwarg \u001b[39m\u001b[38;5;124m\"\u001b[39m\u001b[38;5;241m+\u001b[39m\n\u001b[1;32m    174\u001b[0m         \u001b[38;5;124m\"\u001b[39m\u001b[38;5;124mclimo_start_year & climo_end_year\u001b[39m\u001b[38;5;124m\"\u001b[39m\n\u001b[1;32m    175\u001b[0m     )\n\u001b[1;32m    177\u001b[0m da_climo \u001b[38;5;241m=\u001b[39m (\n\u001b[1;32m    178\u001b[0m     da_data\n\u001b[1;32m    179\u001b[0m     \u001b[38;5;241m.\u001b[39mmean(dim\u001b[38;5;241m=\u001b[39m\u001b[38;5;124mf\u001b[39m\u001b[38;5;124m'\u001b[39m\u001b[38;5;132;01m{\u001b[39;00m\u001b[38;5;28mself\u001b[39m\u001b[38;5;241m.\u001b[39mmem\u001b[38;5;132;01m}\u001b[39;00m\u001b[38;5;124m'\u001b[39m)\n\u001b[1;32m    180\u001b[0m     \u001b[38;5;241m.\u001b[39mgroupby(\u001b[38;5;124mf\u001b[39m\u001b[38;5;124m'\u001b[39m\u001b[38;5;132;01m{\u001b[39;00m\u001b[38;5;28mself\u001b[39m\u001b[38;5;241m.\u001b[39minit\u001b[38;5;132;01m}\u001b[39;00m\u001b[38;5;124m.\u001b[39m\u001b[38;5;132;01m{\u001b[39;00m\u001b[38;5;28mself\u001b[39m\u001b[38;5;241m.\u001b[39mtfreq\u001b[38;5;132;01m}\u001b[39;00m\u001b[38;5;124m'\u001b[39m)\n\u001b[1;32m    181\u001b[0m     \u001b[38;5;241m.\u001b[39mmean(dim\u001b[38;5;241m=\u001b[39m\u001b[38;5;124mf\u001b[39m\u001b[38;5;124m'\u001b[39m\u001b[38;5;132;01m{\u001b[39;00m\u001b[38;5;28mself\u001b[39m\u001b[38;5;241m.\u001b[39minit\u001b[38;5;132;01m}\u001b[39;00m\u001b[38;5;124m'\u001b[39m)\n\u001b[1;32m    182\u001b[0m )\n\u001b[1;32m    184\u001b[0m da_climo\u001b[38;5;241m.\u001b[39mattrs[\u001b[38;5;124m'\u001b[39m\u001b[38;5;124mperiod_of_climatology\u001b[39m\u001b[38;5;124m'\u001b[39m] \u001b[38;5;241m=\u001b[39m \u001b[38;5;124mf\u001b[39m\u001b[38;5;124m'\u001b[39m\u001b[38;5;124myear \u001b[39m\u001b[38;5;132;01m{\u001b[39;00mclimo_start_year\u001b[38;5;132;01m}\u001b[39;00m\u001b[38;5;124m to \u001b[39m\u001b[38;5;132;01m{\u001b[39;00mclimo_end_year\u001b[38;5;132;01m}\u001b[39;00m\u001b[38;5;124m'\u001b[39m\n",
      "\u001b[0;31mValueError\u001b[0m: The data array is empty based on the kwarg climo_start_year & climo_end_year"
     ]
    }
   ],
   "source": [
    "# test climo module empty array should have ValueError\n",
    "class_forecast_climo = mom6_statistics.ForecastClimatology(ds_forecast,'tos')\n",
    "da_climo = class_forecast_climo.generate_climo(1991,1992,'compute')"
   ]
  },
  {
   "cell_type": "code",
   "execution_count": 8,
   "metadata": {},
   "outputs": [],
   "source": [
    "# test ForecastQuantile class generate_quantile method\n",
    "dict_anom = class_forecast_climo.generate_anom_batch(1993,1993,1993,1993,'compute',precompute_climo=False)\n",
    "ds_anom = xr.Dataset()\n",
    "ds_anom['tos'] = dict_anom['anomaly']\n",
    "ds_anom['climo'] = dict_anom['climatology']"
   ]
  },
  {
   "cell_type": "code",
   "execution_count": 10,
   "metadata": {},
   "outputs": [
    {
     "data": {
      "text/plain": [
       "array(0.09486389, dtype=float32)"
      ]
     },
     "execution_count": 10,
     "metadata": {},
     "output_type": "execute_result"
    }
   ],
   "source": [
    "# import importlib\n",
    "# from mom6.mom6_module import mom6_statistics\n",
    "# importlib.reload(mom6_statistics)\n",
    "\n",
    "class_forecast_quantile = mom6_statistics.ForecastQuantile(ds_anom.sel(init='1993-03').isel(xh=slice(100,200),yh=slice(0, 100),lead=slice(0,1),member=slice(0,1)),'tos')\n",
    "da_threshold = class_forecast_quantile.generate_quantile(1993,1993,90,False)\n",
    "# da_threshold.sum().data\n",
    "da_threshold.max().data"
   ]
  },
  {
   "cell_type": "code",
   "execution_count": 17,
   "metadata": {},
   "outputs": [
    {
     "data": {
      "text/plain": [
       "<matplotlib.collections.QuadMesh at 0x7f443c3fc450>"
      ]
     },
     "execution_count": 17,
     "metadata": {},
     "output_type": "execute_result"
    },
    {
     "data": {
      "image/png": "[encoded data removed]",
      "text/plain": [
       "<Figure size 640x480 with 2 Axes>"
      ]
     },
     "metadata": {},
     "output_type": "display_data"
    }
   ],
   "source": [
    "da_threshold.plot()"
   ]
  },
  {
   "cell_type": "code",
   "execution_count": 21,
   "metadata": {},
   "outputs": [
    {
     "data": {
      "text/plain": [
       "array(505., dtype=float32)"
      ]
     },
     "execution_count": 21,
     "metadata": {},
     "output_type": "execute_result"
    }
   ],
   "source": [
    "class_mhw = mom6_mhw.MarineHeatwaveForecast(ds_forecast.isel(xh=slice(100,200),yh=slice(0, 100),member=slice(0,1)),'tos')\n",
    "ds_mhw_single = class_mhw.generate_forecast_single('2022-03',ds_anom['climo'].isel(xh=slice(100,200),yh=slice(0, 100)),da_threshold)\n",
    "ds_mhw_single.mhw_prob90.sum().data\n",
    "\n"
   ]
  },
  {
   "cell_type": "code",
   "execution_count": 22,
   "metadata": {},
   "outputs": [
    {
     "data": {
      "text/plain": [
       "array(0.37654305, dtype=float32)"
      ]
     },
     "execution_count": 22,
     "metadata": {},
     "output_type": "execute_result"
    }
   ],
   "source": [
    "ds_mhw_single.ssta_avg.max().data\n"
   ]
  },
  {
   "cell_type": "code",
   "execution_count": 24,
   "metadata": {},
   "outputs": [
    {
     "data": {
      "text/plain": [
       "array(0.37654305, dtype=float32)"
      ]
     },
     "execution_count": 24,
     "metadata": {},
     "output_type": "execute_result"
    }
   ],
   "source": [
    "ds_mhw_single.mhw_mag_indentified_ens.max().data"
   ]
  },
  {
   "cell_type": "code",
   "execution_count": 39,
   "metadata": {},
   "outputs": [],
   "source": [
    "class_mhw = mom6_mhw.MarineHeatwaveForecast(ds_forecast.isel(xh=slice(300,350),yh=slice(100, 150),lead=slice(0,1),member=slice(0,1)),'tos')\n",
    "ds_mhw_batch = class_mhw.generate_forecast_batch(1993,1994,1993,1993,90)\n"
   ]
  },
  {
   "cell_type": "code",
   "execution_count": 41,
   "metadata": {},
   "outputs": [
    {
     "data": {
      "text/plain": [
       "array(0.37993317)"
      ]
     },
     "execution_count": 41,
     "metadata": {},
     "output_type": "execute_result"
    }
   ],
   "source": [
    "ds_mhw_batch.tos_threshold90.max().data\n"
   ]
  },
  {
   "cell_type": "code",
   "execution_count": 42,
   "metadata": {},
   "outputs": [
    {
     "data": {
      "text/plain": [
       "array(6775., dtype=float32)"
      ]
     },
     "execution_count": 42,
     "metadata": {},
     "output_type": "execute_result"
    }
   ],
   "source": [
    "ds_mhw_batch.mhw_prob90.sum().data\n"
   ]
  },
  {
   "cell_type": "code",
   "execution_count": 43,
   "metadata": {},
   "outputs": [
    {
     "data": {
      "text/plain": [
       "array(0.47491646, dtype=float32)"
      ]
     },
     "execution_count": 43,
     "metadata": {},
     "output_type": "execute_result"
    }
   ],
   "source": [
    "ds_mhw_batch.ssta_avg.max().data\n"
   ]
  },
  {
   "cell_type": "code",
   "execution_count": 45,
   "metadata": {},
   "outputs": [
    {
     "data": {
      "text/plain": [
       "array(0.47491646, dtype=float32)"
      ]
     },
     "execution_count": 45,
     "metadata": {},
     "output_type": "execute_result"
    }
   ],
   "source": [
    "ds_mhw_batch.mhw_magnitude_indentified_ens.max().compute().data"
   ]
  },
  {
   "cell_type": "code",
   "execution_count": 30,
   "metadata": {},
   "outputs": [],
   "source": [
    "FORECAST_opendap = mom6_io.MOM6Forecast(\n",
    "    var='tos',\n",
    "    data_relative_dir='forecast/',\n",
    "    static_relative_dir='static/',\n",
    "    grid='raw',\n",
    "    source='opendap')\n",
    "ds_opendap = FORECAST_opendap.get_all()"
   ]
  },
  {
   "cell_type": "code",
   "execution_count": 33,
   "metadata": {},
   "outputs": [
    {
     "ename": "KeyError",
     "evalue": "\"Coordinates should have 'lon' with exact naming\"",
     "output_type": "error",
     "traceback": [
      "\u001b[0;31m---------------------------------------------------------------------------\u001b[0m",
      "\u001b[0;31mKeyError\u001b[0m                                  Traceback (most recent call last)",
      "\u001b[0;32m~/.conda/envs/regional-mom6/lib/python3.11/site-packages/xarray/core/dataset.py\u001b[0m in \u001b[0;36m?\u001b[0;34m(self, name)\u001b[0m\n\u001b[1;32m   1474\u001b[0m             \u001b[0mvariable\u001b[0m \u001b[0;34m=\u001b[0m \u001b[0mself\u001b[0m\u001b[0;34m.\u001b[0m\u001b[0m_variables\u001b[0m\u001b[0;34m[\u001b[0m\u001b[0mname\u001b[0m\u001b[0;34m]\u001b[0m\u001b[0;34m\u001b[0m\u001b[0;34m\u001b[0m\u001b[0m\n\u001b[1;32m   1475\u001b[0m         \u001b[0;32mexcept\u001b[0m \u001b[0mKeyError\u001b[0m\u001b[0;34m:\u001b[0m\u001b[0;34m\u001b[0m\u001b[0;34m\u001b[0m\u001b[0m\n\u001b[0;32m-> 1476\u001b[0;31m             \u001b[0m_\u001b[0m\u001b[0;34m,\u001b[0m \u001b[0mname\u001b[0m\u001b[0;34m,\u001b[0m \u001b[0mvariable\u001b[0m \u001b[0;34m=\u001b[0m \u001b[0m_get_virtual_variable\u001b[0m\u001b[0;34m(\u001b[0m\u001b[0mself\u001b[0m\u001b[0;34m.\u001b[0m\u001b[0m_variables\u001b[0m\u001b[0;34m,\u001b[0m \u001b[0mname\u001b[0m\u001b[0;34m,\u001b[0m \u001b[0mself\u001b[0m\u001b[0;34m.\u001b[0m\u001b[0msizes\u001b[0m\u001b[0;34m)\u001b[0m\u001b[0;34m\u001b[0m\u001b[0;34m\u001b[0m\u001b[0m\n\u001b[0m\u001b[1;32m   1477\u001b[0m \u001b[0;34m\u001b[0m\u001b[0m\n",
      "\u001b[0;31mKeyError\u001b[0m: 'lon'",
      "\nDuring handling of the above exception, another exception occurred:\n",
      "\u001b[0;31mKeyError\u001b[0m                                  Traceback (most recent call last)",
      "\u001b[0;32m~/.conda/envs/regional-mom6/lib/python3.11/site-packages/xarray/core/dataset.py\u001b[0m in \u001b[0;36m?\u001b[0;34m(self, key)\u001b[0m\n\u001b[1;32m   1573\u001b[0m                 \u001b[0;32mreturn\u001b[0m \u001b[0mself\u001b[0m\u001b[0;34m.\u001b[0m\u001b[0m_construct_dataarray\u001b[0m\u001b[0;34m(\u001b[0m\u001b[0mkey\u001b[0m\u001b[0;34m)\u001b[0m\u001b[0;34m\u001b[0m\u001b[0;34m\u001b[0m\u001b[0m\n\u001b[1;32m   1574\u001b[0m             \u001b[0;32mexcept\u001b[0m \u001b[0mKeyError\u001b[0m \u001b[0;32mas\u001b[0m \u001b[0me\u001b[0m\u001b[0;34m:\u001b[0m\u001b[0;34m\u001b[0m\u001b[0;34m\u001b[0m\u001b[0m\n\u001b[0;32m-> 1575\u001b[0;31m                 raise KeyError(\n\u001b[0m\u001b[1;32m   1576\u001b[0m                     \u001b[0;34mf\"No variable named {key!r}. Variables on the dataset include {shorten_list_repr(list(self.variables.keys()), max_items=10)}\"\u001b[0m\u001b[0;34m\u001b[0m\u001b[0;34m\u001b[0m\u001b[0m\n",
      "\u001b[0;32m~/.conda/envs/regional-mom6/lib/python3.11/site-packages/xarray/core/dataset.py\u001b[0m in \u001b[0;36m?\u001b[0;34m(self, name)\u001b[0m\n\u001b[1;32m   1474\u001b[0m             \u001b[0mvariable\u001b[0m \u001b[0;34m=\u001b[0m \u001b[0mself\u001b[0m\u001b[0;34m.\u001b[0m\u001b[0m_variables\u001b[0m\u001b[0;34m[\u001b[0m\u001b[0mname\u001b[0m\u001b[0;34m]\u001b[0m\u001b[0;34m\u001b[0m\u001b[0;34m\u001b[0m\u001b[0m\n\u001b[1;32m   1475\u001b[0m         \u001b[0;32mexcept\u001b[0m \u001b[0mKeyError\u001b[0m\u001b[0;34m:\u001b[0m\u001b[0;34m\u001b[0m\u001b[0;34m\u001b[0m\u001b[0m\n\u001b[0;32m-> 1476\u001b[0;31m             \u001b[0m_\u001b[0m\u001b[0;34m,\u001b[0m \u001b[0mname\u001b[0m\u001b[0;34m,\u001b[0m \u001b[0mvariable\u001b[0m \u001b[0;34m=\u001b[0m \u001b[0m_get_virtual_variable\u001b[0m\u001b[0;34m(\u001b[0m\u001b[0mself\u001b[0m\u001b[0;34m.\u001b[0m\u001b[0m_variables\u001b[0m\u001b[0;34m,\u001b[0m \u001b[0mname\u001b[0m\u001b[0;34m,\u001b[0m \u001b[0mself\u001b[0m\u001b[0;34m.\u001b[0m\u001b[0msizes\u001b[0m\u001b[0;34m)\u001b[0m\u001b[0;34m\u001b[0m\u001b[0;34m\u001b[0m\u001b[0m\n\u001b[0m\u001b[1;32m   1477\u001b[0m \u001b[0;34m\u001b[0m\u001b[0m\n",
      "\u001b[0;32m~/.conda/envs/regional-mom6/lib/python3.11/site-packages/xarray/core/dataset.py\u001b[0m in \u001b[0;36m?\u001b[0;34m(variables, key, dim_sizes)\u001b[0m\n\u001b[1;32m    207\u001b[0m     \u001b[0msplit_key\u001b[0m \u001b[0;34m=\u001b[0m \u001b[0mkey\u001b[0m\u001b[0;34m.\u001b[0m\u001b[0msplit\u001b[0m\u001b[0;34m(\u001b[0m\u001b[0;34m\".\"\u001b[0m\u001b[0;34m,\u001b[0m \u001b[0;36m1\u001b[0m\u001b[0;34m)\u001b[0m\u001b[0;34m\u001b[0m\u001b[0;34m\u001b[0m\u001b[0m\n\u001b[1;32m    208\u001b[0m     \u001b[0;32mif\u001b[0m \u001b[0mlen\u001b[0m\u001b[0;34m(\u001b[0m\u001b[0msplit_key\u001b[0m\u001b[0;34m)\u001b[0m \u001b[0;34m!=\u001b[0m \u001b[0;36m2\u001b[0m\u001b[0;34m:\u001b[0m\u001b[0;34m\u001b[0m\u001b[0;34m\u001b[0m\u001b[0m\n\u001b[0;32m--> 209\u001b[0;31m         \u001b[0;32mraise\u001b[0m \u001b[0mKeyError\u001b[0m\u001b[0;34m(\u001b[0m\u001b[0mkey\u001b[0m\u001b[0;34m)\u001b[0m\u001b[0;34m\u001b[0m\u001b[0;34m\u001b[0m\u001b[0m\n\u001b[0m\u001b[1;32m    210\u001b[0m \u001b[0;34m\u001b[0m\u001b[0m\n",
      "\u001b[0;31mKeyError\u001b[0m: 'lon'",
      "\nThe above exception was the direct cause of the following exception:\n",
      "\u001b[0;31mKeyError\u001b[0m                                  Traceback (most recent call last)",
      "\u001b[0;32m~/regional_mom/mom6/mom6_module/mom6_statistics.py\u001b[0m in \u001b[0;36m?\u001b[0;34m(self)\u001b[0m\n\u001b[1;32m     55\u001b[0m             \u001b[0mself\u001b[0m\u001b[0;34m.\u001b[0m\u001b[0mdataset\u001b[0m\u001b[0;34m[\u001b[0m\u001b[0;34m'lon'\u001b[0m\u001b[0;34m]\u001b[0m\u001b[0;34m.\u001b[0m\u001b[0mdata\u001b[0m\u001b[0;34m\u001b[0m\u001b[0;34m\u001b[0m\u001b[0m\n\u001b[1;32m     56\u001b[0m         \u001b[0;32mexcept\u001b[0m \u001b[0mKeyError\u001b[0m \u001b[0;32mas\u001b[0m \u001b[0me\u001b[0m\u001b[0;34m:\u001b[0m\u001b[0;34m\u001b[0m\u001b[0;34m\u001b[0m\u001b[0m\n\u001b[0;32m---> 57\u001b[0;31m             raise KeyError(\n\u001b[0m\u001b[1;32m     58\u001b[0m                 \u001b[0;34m\"Coordinates should have 'lon' with exact naming\"\u001b[0m\u001b[0;34m\u001b[0m\u001b[0;34m\u001b[0m\u001b[0m\n",
      "\u001b[0;32m~/.conda/envs/regional-mom6/lib/python3.11/site-packages/xarray/core/dataset.py\u001b[0m in \u001b[0;36m?\u001b[0;34m(self, key)\u001b[0m\n\u001b[1;32m   1573\u001b[0m                 \u001b[0;32mreturn\u001b[0m \u001b[0mself\u001b[0m\u001b[0;34m.\u001b[0m\u001b[0m_construct_dataarray\u001b[0m\u001b[0;34m(\u001b[0m\u001b[0mkey\u001b[0m\u001b[0;34m)\u001b[0m\u001b[0;34m\u001b[0m\u001b[0;34m\u001b[0m\u001b[0m\n\u001b[1;32m   1574\u001b[0m             \u001b[0;32mexcept\u001b[0m \u001b[0mKeyError\u001b[0m \u001b[0;32mas\u001b[0m \u001b[0me\u001b[0m\u001b[0;34m:\u001b[0m\u001b[0;34m\u001b[0m\u001b[0;34m\u001b[0m\u001b[0m\n\u001b[0;32m-> 1575\u001b[0;31m                 raise KeyError(\n\u001b[0m\u001b[1;32m   1576\u001b[0m                     \u001b[0;34mf\"No variable named {key!r}. Variables on the dataset include {shorten_list_repr(list(self.variables.keys()), max_items=10)}\"\u001b[0m\u001b[0;34m\u001b[0m\u001b[0;34m\u001b[0m\u001b[0m\n",
      "\u001b[0;31mKeyError\u001b[0m: \"No variable named 'lon'. Variables on the dataset include ['xh', 'xq', 'yh', 'yq', 'Coriolis', ..., 'tos_anom', 'init', 'lead', 'member', 'month']\"",
      "\nThe above exception was the direct cause of the following exception:\n",
      "\u001b[0;31mKeyError\u001b[0m                                  Traceback (most recent call last)",
      "Cell \u001b[0;32mIn[33], line 2\u001b[0m\n\u001b[1;32m      1\u001b[0m \u001b[38;5;66;03m# Keyerror in lon name\u001b[39;00m\n\u001b[0;32m----> 2\u001b[0m \u001b[43mmom6_statistics\u001b[49m\u001b[38;5;241;43m.\u001b[39;49m\u001b[43mCoordinateWrangle\u001b[49m\u001b[43m(\u001b[49m\u001b[43mds_opendap\u001b[49m\u001b[43m)\u001b[49m\u001b[38;5;241;43m.\u001b[39;49m\u001b[43mcheck_coord_name\u001b[49m\u001b[43m(\u001b[49m\u001b[43m)\u001b[49m\n",
      "File \u001b[0;32m~/regional_mom/mom6/mom6_module/mom6_statistics.py:57\u001b[0m, in \u001b[0;36mCoordinateWrangle.check_coord_name\u001b[0;34m(self)\u001b[0m\n\u001b[1;32m     55\u001b[0m     \u001b[38;5;28mself\u001b[39m\u001b[38;5;241m.\u001b[39mdataset[\u001b[38;5;124m'\u001b[39m\u001b[38;5;124mlon\u001b[39m\u001b[38;5;124m'\u001b[39m]\u001b[38;5;241m.\u001b[39mdata\n\u001b[1;32m     56\u001b[0m \u001b[38;5;28;01mexcept\u001b[39;00m \u001b[38;5;167;01mKeyError\u001b[39;00m \u001b[38;5;28;01mas\u001b[39;00m e:\n\u001b[0;32m---> 57\u001b[0m     \u001b[38;5;28;01mraise\u001b[39;00m \u001b[38;5;167;01mKeyError\u001b[39;00m(\n\u001b[1;32m     58\u001b[0m         \u001b[38;5;124m\"\u001b[39m\u001b[38;5;124mCoordinates should have \u001b[39m\u001b[38;5;124m'\u001b[39m\u001b[38;5;124mlon\u001b[39m\u001b[38;5;124m'\u001b[39m\u001b[38;5;124m with exact naming\u001b[39m\u001b[38;5;124m\"\u001b[39m\n\u001b[1;32m     59\u001b[0m     ) \u001b[38;5;28;01mfrom\u001b[39;00m \u001b[38;5;21;01me\u001b[39;00m\n\u001b[1;32m     61\u001b[0m \u001b[38;5;66;03m# check lat name\u001b[39;00m\n\u001b[1;32m     62\u001b[0m \u001b[38;5;28;01mtry\u001b[39;00m:\n",
      "\u001b[0;31mKeyError\u001b[0m: \"Coordinates should have 'lon' with exact naming\""
     ]
    }
   ],
   "source": [
    "# Keyerror in lon name\n",
    "mom6_statistics.CoordinateWrangle(ds_opendap).check_coord_name()\n"
   ]
  },
  {
   "cell_type": "code",
   "execution_count": 34,
   "metadata": {},
   "outputs": [
    {
     "ename": "KeyError",
     "evalue": "\"Coordinates should have 'lat' with exact naming\"",
     "output_type": "error",
     "traceback": [
      "\u001b[0;31m---------------------------------------------------------------------------\u001b[0m",
      "\u001b[0;31mKeyError\u001b[0m                                  Traceback (most recent call last)",
      "\u001b[0;32m~/.conda/envs/regional-mom6/lib/python3.11/site-packages/xarray/core/dataset.py\u001b[0m in \u001b[0;36m?\u001b[0;34m(self, name)\u001b[0m\n\u001b[1;32m   1474\u001b[0m             \u001b[0mvariable\u001b[0m \u001b[0;34m=\u001b[0m \u001b[0mself\u001b[0m\u001b[0;34m.\u001b[0m\u001b[0m_variables\u001b[0m\u001b[0;34m[\u001b[0m\u001b[0mname\u001b[0m\u001b[0;34m]\u001b[0m\u001b[0;34m\u001b[0m\u001b[0;34m\u001b[0m\u001b[0m\n\u001b[1;32m   1475\u001b[0m         \u001b[0;32mexcept\u001b[0m \u001b[0mKeyError\u001b[0m\u001b[0;34m:\u001b[0m\u001b[0;34m\u001b[0m\u001b[0;34m\u001b[0m\u001b[0m\n\u001b[0;32m-> 1476\u001b[0;31m             \u001b[0m_\u001b[0m\u001b[0;34m,\u001b[0m \u001b[0mname\u001b[0m\u001b[0;34m,\u001b[0m \u001b[0mvariable\u001b[0m \u001b[0;34m=\u001b[0m \u001b[0m_get_virtual_variable\u001b[0m\u001b[0;34m(\u001b[0m\u001b[0mself\u001b[0m\u001b[0;34m.\u001b[0m\u001b[0m_variables\u001b[0m\u001b[0;34m,\u001b[0m \u001b[0mname\u001b[0m\u001b[0;34m,\u001b[0m \u001b[0mself\u001b[0m\u001b[0;34m.\u001b[0m\u001b[0msizes\u001b[0m\u001b[0;34m)\u001b[0m\u001b[0;34m\u001b[0m\u001b[0;34m\u001b[0m\u001b[0m\n\u001b[0m\u001b[1;32m   1477\u001b[0m \u001b[0;34m\u001b[0m\u001b[0m\n",
      "\u001b[0;31mKeyError\u001b[0m: 'lat'",
      "\nDuring handling of the above exception, another exception occurred:\n",
      "\u001b[0;31mKeyError\u001b[0m                                  Traceback (most recent call last)",
      "\u001b[0;32m~/.conda/envs/regional-mom6/lib/python3.11/site-packages/xarray/core/dataset.py\u001b[0m in \u001b[0;36m?\u001b[0;34m(self, key)\u001b[0m\n\u001b[1;32m   1573\u001b[0m                 \u001b[0;32mreturn\u001b[0m \u001b[0mself\u001b[0m\u001b[0;34m.\u001b[0m\u001b[0m_construct_dataarray\u001b[0m\u001b[0;34m(\u001b[0m\u001b[0mkey\u001b[0m\u001b[0;34m)\u001b[0m\u001b[0;34m\u001b[0m\u001b[0;34m\u001b[0m\u001b[0m\n\u001b[1;32m   1574\u001b[0m             \u001b[0;32mexcept\u001b[0m \u001b[0mKeyError\u001b[0m \u001b[0;32mas\u001b[0m \u001b[0me\u001b[0m\u001b[0;34m:\u001b[0m\u001b[0;34m\u001b[0m\u001b[0;34m\u001b[0m\u001b[0m\n\u001b[0;32m-> 1575\u001b[0;31m                 raise KeyError(\n\u001b[0m\u001b[1;32m   1576\u001b[0m                     \u001b[0;34mf\"No variable named {key!r}. Variables on the dataset include {shorten_list_repr(list(self.variables.keys()), max_items=10)}\"\u001b[0m\u001b[0;34m\u001b[0m\u001b[0;34m\u001b[0m\u001b[0m\n",
      "\u001b[0;32m~/.conda/envs/regional-mom6/lib/python3.11/site-packages/xarray/core/dataset.py\u001b[0m in \u001b[0;36m?\u001b[0;34m(self, name)\u001b[0m\n\u001b[1;32m   1474\u001b[0m             \u001b[0mvariable\u001b[0m \u001b[0;34m=\u001b[0m \u001b[0mself\u001b[0m\u001b[0;34m.\u001b[0m\u001b[0m_variables\u001b[0m\u001b[0;34m[\u001b[0m\u001b[0mname\u001b[0m\u001b[0;34m]\u001b[0m\u001b[0;34m\u001b[0m\u001b[0;34m\u001b[0m\u001b[0m\n\u001b[1;32m   1475\u001b[0m         \u001b[0;32mexcept\u001b[0m \u001b[0mKeyError\u001b[0m\u001b[0;34m:\u001b[0m\u001b[0;34m\u001b[0m\u001b[0;34m\u001b[0m\u001b[0m\n\u001b[0;32m-> 1476\u001b[0;31m             \u001b[0m_\u001b[0m\u001b[0;34m,\u001b[0m \u001b[0mname\u001b[0m\u001b[0;34m,\u001b[0m \u001b[0mvariable\u001b[0m \u001b[0;34m=\u001b[0m \u001b[0m_get_virtual_variable\u001b[0m\u001b[0;34m(\u001b[0m\u001b[0mself\u001b[0m\u001b[0;34m.\u001b[0m\u001b[0m_variables\u001b[0m\u001b[0;34m,\u001b[0m \u001b[0mname\u001b[0m\u001b[0;34m,\u001b[0m \u001b[0mself\u001b[0m\u001b[0;34m.\u001b[0m\u001b[0msizes\u001b[0m\u001b[0;34m)\u001b[0m\u001b[0;34m\u001b[0m\u001b[0;34m\u001b[0m\u001b[0m\n\u001b[0m\u001b[1;32m   1477\u001b[0m \u001b[0;34m\u001b[0m\u001b[0m\n",
      "\u001b[0;32m~/.conda/envs/regional-mom6/lib/python3.11/site-packages/xarray/core/dataset.py\u001b[0m in \u001b[0;36m?\u001b[0;34m(variables, key, dim_sizes)\u001b[0m\n\u001b[1;32m    207\u001b[0m     \u001b[0msplit_key\u001b[0m \u001b[0;34m=\u001b[0m \u001b[0mkey\u001b[0m\u001b[0;34m.\u001b[0m\u001b[0msplit\u001b[0m\u001b[0;34m(\u001b[0m\u001b[0;34m\".\"\u001b[0m\u001b[0;34m,\u001b[0m \u001b[0;36m1\u001b[0m\u001b[0;34m)\u001b[0m\u001b[0;34m\u001b[0m\u001b[0;34m\u001b[0m\u001b[0m\n\u001b[1;32m    208\u001b[0m     \u001b[0;32mif\u001b[0m \u001b[0mlen\u001b[0m\u001b[0;34m(\u001b[0m\u001b[0msplit_key\u001b[0m\u001b[0;34m)\u001b[0m \u001b[0;34m!=\u001b[0m \u001b[0;36m2\u001b[0m\u001b[0;34m:\u001b[0m\u001b[0;34m\u001b[0m\u001b[0;34m\u001b[0m\u001b[0m\n\u001b[0;32m--> 209\u001b[0;31m         \u001b[0;32mraise\u001b[0m \u001b[0mKeyError\u001b[0m\u001b[0;34m(\u001b[0m\u001b[0mkey\u001b[0m\u001b[0;34m)\u001b[0m\u001b[0;34m\u001b[0m\u001b[0;34m\u001b[0m\u001b[0m\n\u001b[0m\u001b[1;32m    210\u001b[0m \u001b[0;34m\u001b[0m\u001b[0m\n",
      "\u001b[0;31mKeyError\u001b[0m: 'lat'",
      "\nThe above exception was the direct cause of the following exception:\n",
      "\u001b[0;31mKeyError\u001b[0m                                  Traceback (most recent call last)",
      "\u001b[0;32m~/regional_mom/mom6/mom6_module/mom6_statistics.py\u001b[0m in \u001b[0;36m?\u001b[0;34m(self)\u001b[0m\n\u001b[1;32m     63\u001b[0m             \u001b[0mself\u001b[0m\u001b[0;34m.\u001b[0m\u001b[0mdataset\u001b[0m\u001b[0;34m[\u001b[0m\u001b[0;34m'lat'\u001b[0m\u001b[0;34m]\u001b[0m\u001b[0;34m.\u001b[0m\u001b[0mdata\u001b[0m\u001b[0;34m\u001b[0m\u001b[0;34m\u001b[0m\u001b[0m\n\u001b[1;32m     64\u001b[0m         \u001b[0;32mexcept\u001b[0m \u001b[0mKeyError\u001b[0m \u001b[0;32mas\u001b[0m \u001b[0me\u001b[0m\u001b[0;34m:\u001b[0m\u001b[0;34m\u001b[0m\u001b[0;34m\u001b[0m\u001b[0m\n\u001b[0;32m---> 65\u001b[0;31m             raise KeyError(\n\u001b[0m\u001b[1;32m     66\u001b[0m                 \u001b[0;34m\"Coordinates should have 'lat' with exact naming\"\u001b[0m\u001b[0;34m\u001b[0m\u001b[0;34m\u001b[0m\u001b[0m\n",
      "\u001b[0;32m~/.conda/envs/regional-mom6/lib/python3.11/site-packages/xarray/core/dataset.py\u001b[0m in \u001b[0;36m?\u001b[0;34m(self, key)\u001b[0m\n\u001b[1;32m   1573\u001b[0m                 \u001b[0;32mreturn\u001b[0m \u001b[0mself\u001b[0m\u001b[0;34m.\u001b[0m\u001b[0m_construct_dataarray\u001b[0m\u001b[0;34m(\u001b[0m\u001b[0mkey\u001b[0m\u001b[0;34m)\u001b[0m\u001b[0;34m\u001b[0m\u001b[0;34m\u001b[0m\u001b[0m\n\u001b[1;32m   1574\u001b[0m             \u001b[0;32mexcept\u001b[0m \u001b[0mKeyError\u001b[0m \u001b[0;32mas\u001b[0m \u001b[0me\u001b[0m\u001b[0;34m:\u001b[0m\u001b[0;34m\u001b[0m\u001b[0;34m\u001b[0m\u001b[0m\n\u001b[0;32m-> 1575\u001b[0;31m                 raise KeyError(\n\u001b[0m\u001b[1;32m   1576\u001b[0m                     \u001b[0;34mf\"No variable named {key!r}. Variables on the dataset include {shorten_list_repr(list(self.variables.keys()), max_items=10)}\"\u001b[0m\u001b[0;34m\u001b[0m\u001b[0;34m\u001b[0m\u001b[0m\n",
      "\u001b[0;31mKeyError\u001b[0m: \"No variable named 'lat'. Variables on the dataset include ['xh', 'xq', 'yh', 'yq', 'Coriolis', ..., 'tos_anom', 'init', 'lead', 'member', 'month']\"",
      "\nThe above exception was the direct cause of the following exception:\n",
      "\u001b[0;31mKeyError\u001b[0m                                  Traceback (most recent call last)",
      "Cell \u001b[0;32mIn[34], line 3\u001b[0m\n\u001b[1;32m      1\u001b[0m ds_opendap_latwrong \u001b[38;5;241m=\u001b[39m ds_opendap\u001b[38;5;241m.\u001b[39mrename({\u001b[38;5;124m'\u001b[39m\u001b[38;5;124mgeolon\u001b[39m\u001b[38;5;124m'\u001b[39m:\u001b[38;5;124m'\u001b[39m\u001b[38;5;124mlon\u001b[39m\u001b[38;5;124m'\u001b[39m})\n\u001b[1;32m      2\u001b[0m \u001b[38;5;66;03m# Keyerror in lat name\u001b[39;00m\n\u001b[0;32m----> 3\u001b[0m \u001b[43mmom6_statistics\u001b[49m\u001b[38;5;241;43m.\u001b[39;49m\u001b[43mCoordinateWrangle\u001b[49m\u001b[43m(\u001b[49m\u001b[43mds_opendap_latwrong\u001b[49m\u001b[43m)\u001b[49m\u001b[38;5;241;43m.\u001b[39;49m\u001b[43mcheck_coord_name\u001b[49m\u001b[43m(\u001b[49m\u001b[43m)\u001b[49m\n",
      "File \u001b[0;32m~/regional_mom/mom6/mom6_module/mom6_statistics.py:65\u001b[0m, in \u001b[0;36mCoordinateWrangle.check_coord_name\u001b[0;34m(self)\u001b[0m\n\u001b[1;32m     63\u001b[0m     \u001b[38;5;28mself\u001b[39m\u001b[38;5;241m.\u001b[39mdataset[\u001b[38;5;124m'\u001b[39m\u001b[38;5;124mlat\u001b[39m\u001b[38;5;124m'\u001b[39m]\u001b[38;5;241m.\u001b[39mdata\n\u001b[1;32m     64\u001b[0m \u001b[38;5;28;01mexcept\u001b[39;00m \u001b[38;5;167;01mKeyError\u001b[39;00m \u001b[38;5;28;01mas\u001b[39;00m e:\n\u001b[0;32m---> 65\u001b[0m     \u001b[38;5;28;01mraise\u001b[39;00m \u001b[38;5;167;01mKeyError\u001b[39;00m(\n\u001b[1;32m     66\u001b[0m         \u001b[38;5;124m\"\u001b[39m\u001b[38;5;124mCoordinates should have \u001b[39m\u001b[38;5;124m'\u001b[39m\u001b[38;5;124mlat\u001b[39m\u001b[38;5;124m'\u001b[39m\u001b[38;5;124m with exact naming\u001b[39m\u001b[38;5;124m\"\u001b[39m\n\u001b[1;32m     67\u001b[0m     ) \u001b[38;5;28;01mfrom\u001b[39;00m \u001b[38;5;21;01me\u001b[39;00m\n",
      "\u001b[0;31mKeyError\u001b[0m: \"Coordinates should have 'lat' with exact naming\""
     ]
    }
   ],
   "source": [
    "ds_opendap_latwrong = ds_opendap.rename({'geolon':'lon'})\n",
    "# Keyerror in lat name\n",
    "mom6_statistics.CoordinateWrangle(ds_opendap_latwrong).check_coord_name()"
   ]
  },
  {
   "cell_type": "code",
   "execution_count": 39,
   "metadata": {},
   "outputs": [
    {
     "data": {
      "text/plain": [
       "True"
      ]
     },
     "execution_count": 39,
     "metadata": {},
     "output_type": "execute_result"
    }
   ],
   "source": [
    "mom6_statistics.CoordinateWrangle(ds_forecast).to_360().lon.min().data > 0"
   ]
  }
 ],
 "metadata": {
  "kernelspec": {
   "display_name": "regional-mom6",
   "language": "python",
   "name": "python3"
  },
  "language_info": {
   "codemirror_mode": {
    "name": "ipython",
    "version": 3
   },
   "file_extension": ".py",
   "mimetype": "text/x-python",
   "name": "python",
   "nbconvert_exporter": "python",
   "pygments_lexer": "ipython3",
   "version": "3.11.9"
  }
 },
 "nbformat": 4,
 "nbformat_minor": 2
}
