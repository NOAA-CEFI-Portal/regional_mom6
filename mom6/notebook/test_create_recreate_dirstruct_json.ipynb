{
 "cells": [
  {
   "cell_type": "code",
   "execution_count": null,
   "metadata": {},
   "outputs": [
    {
     "name": "stdout",
     "output_type": "stream",
     "text": [
      "northwest_atlantic/catalog.html\n",
      "Skipping file: /myfolder/northwest_atlantic/catalog.html\n"
     ]
    }
   ],
   "source": []
  },
  {
   "cell_type": "code",
   "execution_count": null,
   "metadata": {},
   "outputs": [
    {
     "name": "stdout",
     "output_type": "stream",
     "text": [
      "Folder structure saved to test.json\n"
     ]
    }
   ],
   "source": [
    "def generate_folder_structure_json(source_root, output_json_file):\n",
    "    \"\"\"\n",
    "    Generate a JSON file representing the folder structure of `source_root`.\n",
    "\n",
    "    Parameters:\n",
    "    - source_root: Path of the source folder\n",
    "    - output_json_file: Path to save the JSON representation\n",
    "    \"\"\"\n",
    "    folder_structure = {}\n",
    "    \n",
    "    for root, dirs, _ in os.walk(source_root):\n",
    "        # Compute relative path from source_root\n",
    "        relative_path = os.path.relpath(root, source_root)\n",
    "        current_level = folder_structure\n",
    "\n",
    "        # Traverse or create levels in the dictionary\n",
    "        for part in relative_path.split(os.sep):\n",
    "            current_level = current_level.setdefault(part, {})\n",
    "    \n",
    "    # Save the structure to a JSON file\n",
    "    with open(output_json_file, 'w') as f:\n",
    "        json.dump(folder_structure, f, indent=4)\n",
    "    print(f\"Folder structure saved to {output_json_file}\")\n",
    "\n",
    "# Example usage\n",
    "source_root = \"/path/to/source\"\n",
    "output_json_file = \"folder_structure.json\"\n",
    "\n",
    "generate_folder_structure_json(source_root, output_json_file)"
   ]
  },
  {
   "cell_type": "code",
   "execution_count": null,
   "metadata": {},
   "outputs": [],
   "source": []
  },
  {
   "cell_type": "code",
   "execution_count": null,
   "metadata": {},
   "outputs": [
    {
     "name": "stdout",
     "output_type": "stream",
     "text": [
      ". {}\n",
      "great_lakes {'full_domain': {'long_term_projection': {'v2023-04-1': {'daily': {'raw': {}, 'regrid': {}}, 'monthly': {'regrid': {}, 'raw': {}}, 'yearly': {'raw': {}, 'regrid': {}}}}, 'seasonal_reforecast': {'v2023-04-1': {'yearly': {'regrid': {}, 'raw': {}}, 'daily': {'regrid': {}, 'raw': {}}, 'monthly': {'raw': {}, 'regrid': {}}}}, 'seasonal_forecast_spinup': {'v2023-04-1': {'yearly': {'raw': {}, 'regrid': {}}, 'monthly': {'raw': {}, 'regrid': {}}, 'daily': {'regrid': {}, 'raw': {}}}}, 'hindcast': {'v2023-04-1': {'monthly': {'regrid': {}, 'raw': {}}, 'daily': {'raw': {}, 'regrid': {}}, 'yearly': {'raw': {}, 'regrid': {}}}}, 'historical_run': {'v2023-04-1': {'monthly': {'raw': {}, 'regrid': {}}, 'yearly': {'raw': {}, 'regrid': {}}, 'daily': {'raw': {}, 'regrid': {}}}}, 'seasonal_forecast': {'v2023-04-1': {'daily': {'regrid': {}, 'raw': {}}, 'monthly': {'raw': {}, 'regrid': {}}, 'yearly': {'regrid': {}, 'raw': {}}}}, 'decadal_forecast': {'v2023-04-1': {'yearly': {'raw': {}, 'regrid': {}}, 'daily': {'regrid': {}, 'raw': {}}, 'monthly': {'raw': {}, 'regrid': {}}}}}}\n",
      "northwest_atlantic {'full_domain': {'hindcast': {'v2023-04-1': {'monthly': {'regrid': {}, 'raw': {}}, 'yearly': {'regrid': {}, 'raw': {}}, 'daily': {'raw': {}, 'regrid': {}}}}, 'seasonal_forecast_spinup': {'v2023-04-1': {'monthly': {'raw': {}, 'regrid': {}}, 'yearly': {'raw': {}, 'regrid': {}}, 'daily': {'regrid': {}, 'raw': {}}}}, 'historical_run': {'v2023-04-1': {'monthly': {'regrid': {}, 'raw': {}}, 'yearly': {'raw': {}, 'regrid': {}}, 'daily': {'regrid': {}, 'raw': {}}}}, 'decadal_forecast': {'v2023-04-1': {'yearly': {'raw': {}, 'regrid': {}}, 'monthly': {'regrid': {}, 'raw': {}}, 'daily': {'regrid': {}, 'raw': {}}}}, 'long_term_projection': {'v2023-04-1': {'daily': {'raw': {}, 'regrid': {}}, 'monthly': {'raw': {}, 'regrid': {}}, 'yearly': {'raw': {}, 'regrid': {}}}}, 'seasonal_reforecast': {'v2023-04-1': {'monthly': {'regrid': {}, 'raw': {}}, 'daily': {'raw': {}, 'regrid': {}}, 'yearly': {'regrid': {}, 'raw': {}}}}, 'seasonal_forecast': {'v2023-04-1': {'monthly': {'regrid': {}, 'raw': {}}, 'yearly': {'raw': {}, 'regrid': {}}, 'daily': {'regrid': {}, 'raw': {}}}}}}\n",
      "arctic {'full_domain': {'seasonal_reforecast': {'v2023-04-1': {'yearly': {'raw': {}, 'regrid': {}}, 'monthly': {'regrid': {}, 'raw': {}}, 'daily': {'raw': {}, 'regrid': {}}}}, 'long_term_projection': {'v2023-04-1': {'daily': {'regrid': {}, 'raw': {}}, 'monthly': {'raw': {}, 'regrid': {}}, 'yearly': {'regrid': {}, 'raw': {}}}}, 'seasonal_forecast': {'v2023-04-1': {'monthly': {'regrid': {}, 'raw': {}}, 'yearly': {'raw': {}, 'regrid': {}}, 'daily': {'regrid': {}, 'raw': {}}}}, 'historical_run': {'v2023-04-1': {'daily': {'regrid': {}, 'raw': {}}, 'yearly': {'regrid': {}, 'raw': {}}, 'monthly': {'raw': {}, 'regrid': {}}}}, 'seasonal_forecast_spinup': {'v2023-04-1': {'yearly': {'raw': {}, 'regrid': {}}, 'monthly': {'raw': {}, 'regrid': {}}, 'daily': {'raw': {}, 'regrid': {}}}}, 'hindcast': {'v2023-04-1': {'daily': {'raw': {}, 'regrid': {}}, 'monthly': {'regrid': {}, 'raw': {}}, 'yearly': {'regrid': {}, 'raw': {}}}}, 'decadal_forecast': {'v2023-04-1': {'yearly': {'regrid': {}, 'raw': {}}, 'monthly': {'regrid': {}, 'raw': {}}, 'daily': {'regrid': {}, 'raw': {}}}}}}\n",
      "pacific_islands {'full_domain': {'decadal_forecast': {'v2023-04-1': {'yearly': {'regrid': {}, 'raw': {}}, 'daily': {'regrid': {}, 'raw': {}}, 'monthly': {'regrid': {}, 'raw': {}}}}, 'historical_run': {'v2023-04-1': {'monthly': {'raw': {}, 'regrid': {}}, 'yearly': {'raw': {}, 'regrid': {}}, 'daily': {'raw': {}, 'regrid': {}}}}, 'hindcast': {'v2023-04-1': {'yearly': {'regrid': {}, 'raw': {}}, 'monthly': {'raw': {}, 'regrid': {}}, 'daily': {'regrid': {}, 'raw': {}}}}, 'seasonal_forecast': {'v2023-04-1': {'monthly': {'regrid': {}, 'raw': {}}, 'daily': {'regrid': {}, 'raw': {}}, 'yearly': {'raw': {}, 'regrid': {}}}}, 'long_term_projection': {'v2023-04-1': {'yearly': {'raw': {}, 'regrid': {}}, 'monthly': {'raw': {}, 'regrid': {}}, 'daily': {'regrid': {}, 'raw': {}}}}, 'seasonal_reforecast': {'v2023-04-1': {'yearly': {'raw': {}, 'regrid': {}}, 'daily': {'raw': {}, 'regrid': {}}, 'monthly': {'raw': {}, 'regrid': {}}}}, 'seasonal_forecast_spinup': {'v2023-04-1': {'monthly': {'raw': {}, 'regrid': {}}, 'yearly': {'raw': {}, 'regrid': {}}, 'daily': {'raw': {}, 'regrid': {}}}}}}\n",
      "northeast_pacific {'full_domain': {'seasonal_forecast': {'v2023-04-1': {'daily': {'raw': {}, 'regrid': {}}, 'yearly': {'raw': {}, 'regrid': {}}, 'monthly': {'regrid': {}, 'raw': {}}}}, 'historical_run': {'v2023-04-1': {'daily': {'regrid': {}, 'raw': {}}, 'monthly': {'raw': {}, 'regrid': {}}, 'yearly': {'raw': {}, 'regrid': {}}}}, 'hindcast': {'v2023-04-1': {'yearly': {'raw': {}, 'regrid': {}}, 'monthly': {'regrid': {}, 'raw': {}}, 'daily': {'regrid': {}, 'raw': {}}}}, 'seasonal_reforecast': {'v2023-04-1': {'yearly': {'raw': {}, 'regrid': {}}, 'daily': {'raw': {}, 'regrid': {}}, 'monthly': {'regrid': {}, 'raw': {}}}}, 'seasonal_forecast_spinup': {'v2023-04-1': {'monthly': {'regrid': {}, 'raw': {}}, 'daily': {'raw': {}, 'regrid': {}}, 'yearly': {'raw': {}, 'regrid': {}}}}, 'long_term_projection': {'v2023-04-1': {'monthly': {'regrid': {}, 'raw': {}}, 'yearly': {'raw': {}, 'regrid': {}}, 'daily': {'raw': {}, 'regrid': {}}}}, 'decadal_forecast': {'v2023-04-1': {'monthly': {'raw': {}, 'regrid': {}}, 'daily': {'regrid': {}, 'raw': {}}, 'yearly': {'regrid': {}, 'raw': {}}}}}}\n"
     ]
    }
   ],
   "source": [
    "import os\n",
    "import json\n",
    "\n",
    "def recreate_folder_structure_from_json(input_json_file, destination_root):\n",
    "    \"\"\"\n",
    "    Recreate the folder structure described in a JSON file at `destination_root`.\n",
    "\n",
    "    Parameters:\n",
    "    - input_json_file: Path to the JSON file containing the folder structure\n",
    "    - destination_root: Path to recreate the folder structure\n",
    "    \"\"\"\n",
    "    def create_structure(structure, current_path):\n",
    "        for folder_name, subfolders in structure.items():\n",
    "            # Create the folder at the current level\n",
    "            new_folder_path = os.path.join(current_path, folder_name)\n",
    "            os.makedirs(new_folder_path, exist_ok=True)\n",
    "            print(f\"Created: {new_folder_path}\")\n",
    "            # Recurse into subfolders\n",
    "            create_structure(subfolders, new_folder_path)\n",
    "    \n",
    "    # Load the JSON structure\n",
    "    with open(input_json_file, 'r') as f:\n",
    "        folder_structure = json.load(f)\n",
    "    \n",
    "    # Start creating folders\n",
    "    create_structure(folder_structure, destination_root)\n"
   ]
  },
  {
   "cell_type": "code",
   "execution_count": null,
   "metadata": {},
   "outputs": [],
   "source": []
  }
 ],
 "metadata": {
  "kernelspec": {
   "display_name": "regional-mom6",
   "language": "python",
   "name": "python3"
  },
  "language_info": {
   "codemirror_mode": {
    "name": "ipython",
    "version": 3
   },
   "file_extension": ".py",
   "mimetype": "text/x-python",
   "name": "python",
   "nbconvert_exporter": "python",
   "pygments_lexer": "ipython3",
   "version": "3.11.9"
  }
 },
 "nbformat": 4,
 "nbformat_minor": 2
}
