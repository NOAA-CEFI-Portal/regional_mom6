{
 "cells": [
  {
   "cell_type": "markdown",
   "metadata": {},
   "source": [
    "# Testing the module\n",
    "\n",
    "the testing case should be put to the unittest case"
   ]
  },
  {
   "cell_type": "code",
   "execution_count": 1,
   "metadata": {},
   "outputs": [],
   "source": [
    "import xarray as xr\n",
    "from mom6.mom6_module import mom6_io\n"
   ]
  },
  {
   "cell_type": "markdown",
   "metadata": {},
   "source": []
  },
  {
   "cell_type": "code",
   "execution_count": null,
   "metadata": {},
   "outputs": [],
   "source": []
  },
  {
   "cell_type": "markdown",
   "metadata": {},
   "source": [
    "## TEST OPENDAP"
   ]
  },
  {
   "cell_type": "code",
   "execution_count": 2,
   "metadata": {},
   "outputs": [],
   "source": [
    "import pytest\n",
    "opendap_raw = mom6_io.OpenDapStore('raw','historical')\n",
    "test_url = opendap_raw.get_catalog()[0]\n",
    "try:\n",
    "    ds = xr.open_dataset(test_url)\n",
    "except OSError :\n",
    "    pytest.fail(f'OSError is raised OPeNDAP url not working')\n"
   ]
  },
  {
   "cell_type": "code",
   "execution_count": 3,
   "metadata": {},
   "outputs": [],
   "source": [
    "opendap_regrid = mom6_io.OpenDapStore('regrid','historical')\n",
    "testlink = opendap_regrid.get_catalog()[0]\n",
    "try:\n",
    "    ds = xr.open_dataset(test_url)\n",
    "except OSError :\n",
    "    pytest.fail(f'OSError is raised OPeNDAP url not working')"
   ]
  },
  {
   "cell_type": "markdown",
   "metadata": {},
   "source": [
    "## TEST FORECAST IO"
   ]
  },
  {
   "cell_type": "code",
   "execution_count": 4,
   "metadata": {},
   "outputs": [],
   "source": [
    "forecast_subdir = 'hindcast'\n",
    "historical_subdir = 'hist_run'\n",
    "static_subdir = 'static'\n",
    "mask_subdir = 'masks'\n",
    "tercile_subdir = 'tercile_calculation'"
   ]
  },
  {
   "cell_type": "code",
   "execution_count": 5,
   "metadata": {},
   "outputs": [],
   "source": [
    "fcast_raw_local = mom6_io.MOM6Forecast(\n",
    "    var='tob',\n",
    "    data_relative_dir=forecast_subdir,\n",
    "    static_relative_dir=static_subdir,\n",
    "    grid='raw',\n",
    "    source='local'\n",
    ")\n",
    "\n",
    "fcast_regrid_local = mom6_io.MOM6Forecast(\n",
    "    var='tos',\n",
    "    data_relative_dir=forecast_subdir+'/regrid/',\n",
    "    static_relative_dir=static_subdir,\n",
    "    grid='regrid',\n",
    "    source='local'\n",
    ")\n",
    "\n",
    "try:\n",
    "    ds = fcast_raw_local.get_single(\n",
    "        iyear=2006,\n",
    "        imonth=6)\n",
    "    if ds['init.year'] != 2006 or ds['init.month'] != 6  :\n",
    "        pytest.fail(f'Picked time not the same as output time')\n",
    "    ds = fcast_regrid_local.get_single(\n",
    "        iyear=2012,\n",
    "        imonth=9)\n",
    "    if ds['init.year'] != 2012 or ds['init.month'] != 9  :\n",
    "        pytest.fail(f'Picked time not the same as output time')\n",
    "    ds = fcast_raw_local.get_all()\n",
    "    ds = fcast_regrid_local.get_all()\n",
    "except OSError :\n",
    "    pytest.fail(f'OSError is raised with correct function input')\n",
    "\n",
    "\n"
   ]
  },
  {
   "cell_type": "code",
   "execution_count": null,
   "metadata": {},
   "outputs": [],
   "source": []
  },
  {
   "cell_type": "code",
   "execution_count": 6,
   "metadata": {},
   "outputs": [],
   "source": [
    "fcast_regrid_local_nostaticdir = mom6_io.MOM6Forecast(\n",
    "    var='tos',\n",
    "    data_relative_dir=forecast_subdir,\n",
    "    static_relative_dir=None,\n",
    "    grid='raw',\n",
    "    source='local'\n",
    ")\n",
    "with pytest.raises(OSError):\n",
    "    ds = fcast_regrid_local_nostaticdir.get_single()\n",
    "with pytest.raises(OSError):\n",
    "    ds = fcast_regrid_local_nostaticdir.get_single()\n"
   ]
  },
  {
   "cell_type": "code",
   "execution_count": 7,
   "metadata": {},
   "outputs": [],
   "source": [
    "fcast_regrid_local_errorloc = mom6_io.MOM6Forecast(\n",
    "    var='tos',\n",
    "    data_relative_dir=forecast_subdir,\n",
    "    static_relative_dir=static_subdir,\n",
    "    grid='regrid',\n",
    "    source='local'\n",
    ")\n",
    "\n",
    "with pytest.raises(OSError):\n",
    "    ds = fcast_regrid_local_errorloc.get_single()\n",
    "    fcast_regrid_local_errorloc.get_all()"
   ]
  },
  {
   "cell_type": "code",
   "execution_count": null,
   "metadata": {},
   "outputs": [],
   "source": []
  },
  {
   "cell_type": "code",
   "execution_count": 8,
   "metadata": {},
   "outputs": [],
   "source": [
    "\n",
    "fcast_regrid_local_errorgrid = mom6_io.MOM6Forecast(\n",
    "    var='tos',\n",
    "    data_relative_dir=forecast_subdir+'/regrid/',\n",
    "    static_relative_dir=static_subdir,\n",
    "    grid='raw',\n",
    "    source='local'\n",
    ")\n",
    "with pytest.raises(OSError):\n",
    "    fcast_regrid_local_errorgrid.get_single()\n",
    "    fcast_regrid_local_errorgrid.get_all()\n"
   ]
  },
  {
   "cell_type": "code",
   "execution_count": null,
   "metadata": {},
   "outputs": [],
   "source": []
  },
  {
   "cell_type": "code",
   "execution_count": 9,
   "metadata": {},
   "outputs": [],
   "source": [
    "fcast_regrid_local_erroryear = mom6_io.MOM6Forecast(\n",
    "    var='tos',\n",
    "    data_relative_dir=forecast_subdir,\n",
    "    static_relative_dir=static_subdir,\n",
    "    grid='raw',\n",
    "    source='local'\n",
    ")\n",
    "with pytest.raises(IndexError):\n",
    "    fcast_regrid_local_erroryear.get_single(iyear=2024,imonth=12)\n",
    "    fcast_regrid_local_erroryear.get_single(iyear=2024,imonth=8)\n",
    "\n",
    "try:\n",
    "    ds = fcast_regrid_local_erroryear.get_single(iyear=1993,imonth=3)\n",
    "    if ds['init.year'] != 1993 or ds['init.month'] != 3  :\n",
    "        pytest.fail(f'Picked time not the same as output time')\n",
    "    ds = fcast_regrid_local_erroryear.get_single(iyear=2022,imonth=12)\n",
    "    if ds['init.year'] != 2022 or ds['init.month'] != 12  :\n",
    "        pytest.fail(f'Picked time not the same as output time')\n",
    "except OSError :\n",
    "    pytest.fail(f'OSError is raised with correct function input')"
   ]
  },
  {
   "cell_type": "code",
   "execution_count": null,
   "metadata": {},
   "outputs": [],
   "source": []
  },
  {
   "cell_type": "code",
   "execution_count": 10,
   "metadata": {},
   "outputs": [],
   "source": [
    "fcast_regrid_local_nodatadir = mom6_io.MOM6Forecast(\n",
    "    var='tos',\n",
    "    data_relative_dir=None,\n",
    "    static_relative_dir=static_subdir,\n",
    "    grid='raw',\n",
    "    source='local'\n",
    ")\n",
    "\n",
    "with pytest.raises(OSError):\n",
    "    fcast_regrid_local_nodatadir.get_single()\n"
   ]
  },
  {
   "cell_type": "code",
   "execution_count": 11,
   "metadata": {},
   "outputs": [],
   "source": [
    "\n",
    "fcast_all3_raw_local = mom6_io.MOM6Forecast(\n",
    "    var='tos',\n",
    "    data_relative_dir=forecast_subdir,\n",
    "    static_relative_dir=static_subdir,\n",
    "    tercile_relative_dir=tercile_subdir,\n",
    "    grid='raw',\n",
    "    source='local'\n",
    ")\n",
    "\n",
    "fcast_all3_regrid_local = mom6_io.MOM6Forecast(\n",
    "    var='tos',\n",
    "    data_relative_dir=forecast_subdir+'/regrid/',\n",
    "    static_relative_dir=None,\n",
    "    tercile_relative_dir=tercile_subdir+'/regrid',\n",
    "    grid='regrid',\n",
    "    source='local'\n",
    ")\n",
    "\n",
    "try:\n",
    "    ds = fcast_all3_raw_local.get_single(\n",
    "        iyear=2006,\n",
    "        imonth=6)\n",
    "    if ds['init.year'] != 2006 or ds['init.month'] != 6  :\n",
    "        pytest.fail(f'Picked time not the same as output time')\n",
    "    ds = fcast_all3_regrid_local.get_single(\n",
    "        iyear=2012,\n",
    "        imonth=9)\n",
    "    if ds['init.year'] != 2012 or ds['init.month'] != 9  :\n",
    "        pytest.fail(f'Picked time not the same as output time')\n",
    "except OSError :\n",
    "    pytest.fail(f'OSError is raised with correct function input')\n",
    "\n",
    "try:\n",
    "    ds = fcast_all3_raw_local.get_all()\n",
    "    ds = fcast_all3_regrid_local.get_all()\n",
    "except OSError :\n",
    "    pytest.fail(f'OSError raised in get_all with correct function input')\n",
    "\n",
    "try:\n",
    "    ds = fcast_all3_raw_local.get_tercile()\n",
    "    ds = fcast_all3_regrid_local.get_tercile()\n",
    "    ds = fcast_all3_raw_local.get_tercile(average_type='region')\n",
    "    ds = fcast_all3_regrid_local.get_tercile(average_type='region')\n",
    "except OSError :\n",
    "    pytest.fail(f'OSError raised in get_tercile with correct function input')\n",
    "\n"
   ]
  },
  {
   "cell_type": "code",
   "execution_count": null,
   "metadata": {},
   "outputs": [],
   "source": []
  },
  {
   "cell_type": "markdown",
   "metadata": {},
   "source": [
    "## TEST HISTORICAL RUN IO"
   ]
  },
  {
   "cell_type": "code",
   "execution_count": 12,
   "metadata": {},
   "outputs": [],
   "source": [
    "histrun_raw_local = mom6_io.MOM6Historical(\n",
    "    var='tob',\n",
    "    data_relative_dir=historical_subdir,\n",
    "    static_relative_dir=static_subdir,\n",
    "    grid='raw',\n",
    "    source='local'\n",
    ")\n",
    "\n",
    "histrun_regrid_local = mom6_io.MOM6Historical(\n",
    "    var='tos',\n",
    "    data_relative_dir=historical_subdir+'/regrid/',\n",
    "    static_relative_dir=static_subdir,\n",
    "    grid='regrid',\n",
    "    source='local'\n",
    ")\n",
    "\n",
    "try:\n",
    "    ds = histrun_raw_local.get_single(\n",
    "        year=2006,\n",
    "        month=6)\n",
    "    if ds['time.year'] != 2006 or ds['time.month'] != 6  :\n",
    "        pytest.fail(f'Picked time not the same as output time')\n",
    "    ds = histrun_regrid_local.get_single(\n",
    "        year=2012,\n",
    "        month=9)\n",
    "    if ds['time.year'] != 2012 or ds['time.month'] != 9  :\n",
    "        pytest.fail(f'Picked time not the same as output time')\n",
    "    ds = histrun_raw_local.get_all()\n",
    "    ds = histrun_regrid_local.get_all()\n",
    "except OSError :\n",
    "    pytest.fail(f'OSError is raised with correct function input')\n",
    "\n",
    "\n"
   ]
  },
  {
   "cell_type": "code",
   "execution_count": null,
   "metadata": {},
   "outputs": [],
   "source": []
  },
  {
   "cell_type": "code",
   "execution_count": 13,
   "metadata": {},
   "outputs": [],
   "source": [
    "histrun_regrid_local_nostaticdir = mom6_io.MOM6Historical(\n",
    "    var='tos',\n",
    "    data_relative_dir=historical_subdir,\n",
    "    static_relative_dir=None,\n",
    "    grid='raw',\n",
    "    source='local'\n",
    ")\n",
    "with pytest.raises(OSError):\n",
    "    ds = histrun_regrid_local_nostaticdir.get_single()\n",
    "with pytest.raises(OSError):\n",
    "    ds = histrun_regrid_local_nostaticdir.get_single()\n"
   ]
  },
  {
   "cell_type": "code",
   "execution_count": 14,
   "metadata": {},
   "outputs": [],
   "source": [
    "histrun_regrid_local_errorloc = mom6_io.MOM6Historical(\n",
    "    var='tos',\n",
    "    data_relative_dir=historical_subdir,\n",
    "    static_relative_dir=static_subdir,\n",
    "    grid='regrid',\n",
    "    source='local'\n",
    ")\n",
    "\n",
    "with pytest.raises(OSError):\n",
    "    ds = histrun_regrid_local_errorloc.get_single()\n",
    "    histrun_regrid_local_errorloc.get_all()"
   ]
  },
  {
   "cell_type": "code",
   "execution_count": 15,
   "metadata": {},
   "outputs": [],
   "source": [
    "\n",
    "histrun_regrid_local_errorgrid = mom6_io.MOM6Historical(\n",
    "    var='tos',\n",
    "    data_relative_dir=historical_subdir+'/regrid/',\n",
    "    static_relative_dir=static_subdir,\n",
    "    grid='raw',\n",
    "    source='local'\n",
    ")\n",
    "with pytest.raises(OSError):\n",
    "    histrun_regrid_local_errorgrid.get_single()\n",
    "    histrun_regrid_local_errorgrid.get_all()\n"
   ]
  },
  {
   "cell_type": "code",
   "execution_count": null,
   "metadata": {},
   "outputs": [],
   "source": []
  },
  {
   "cell_type": "code",
   "execution_count": 16,
   "metadata": {},
   "outputs": [],
   "source": [
    "histrun_regrid_local_erroryear = mom6_io.MOM6Historical(\n",
    "    var='tos',\n",
    "    data_relative_dir=historical_subdir,\n",
    "    static_relative_dir=static_subdir,\n",
    "    grid='raw',\n",
    "    source='local'\n",
    ")\n",
    "with pytest.raises(IndexError):\n",
    "    histrun_regrid_local_erroryear.get_single(year=2024,month=12)\n",
    "    histrun_regrid_local_erroryear.get_single(year=2024,month=8)\n",
    "\n",
    "try:\n",
    "    ds = histrun_regrid_local_erroryear.get_single(year=1993,month=1)\n",
    "    if ds['time.year'] != 1993 or ds['time.month'] != 1  :\n",
    "        pytest.fail(f'Picked time not the same as output time')\n",
    "    ds = histrun_regrid_local_erroryear.get_single(year=2019,month=12)\n",
    "    if ds['time.year'] != 2019 or ds['time.month'] != 12  :\n",
    "        pytest.fail(f'Picked time not the same as output time')\n",
    "except OSError :\n",
    "    pytest.fail(f'OSError is raised with correct function input')"
   ]
  },
  {
   "cell_type": "code",
   "execution_count": 17,
   "metadata": {},
   "outputs": [],
   "source": [
    "histrun_regrid_local_nodatadir = mom6_io.MOM6Historical(\n",
    "    var='tos',\n",
    "    data_relative_dir=None,\n",
    "    static_relative_dir=static_subdir,\n",
    "    grid='raw',\n",
    "    source='local'\n",
    ")\n",
    "\n",
    "with pytest.raises(OSError):\n",
    "    histrun_regrid_local_nodatadir.get_single()\n"
   ]
  },
  {
   "cell_type": "code",
   "execution_count": 20,
   "metadata": {},
   "outputs": [],
   "source": [
    "\n",
    "histrun_all3_raw_local = mom6_io.MOM6Historical(\n",
    "    var='tos',\n",
    "    data_relative_dir=historical_subdir,\n",
    "    static_relative_dir=static_subdir,\n",
    "    grid='raw',\n",
    "    source='local'\n",
    ")\n",
    "\n",
    "histrun_all3_regrid_local = mom6_io.MOM6Historical(\n",
    "    var='tos',\n",
    "    data_relative_dir=historical_subdir+'/regrid/',\n",
    "    static_relative_dir=None,\n",
    "    grid='regrid',\n",
    "    source='local'\n",
    ")\n",
    "\n",
    "try:\n",
    "    ds = histrun_all3_raw_local.get_single(\n",
    "        year=2006,\n",
    "        month=6)\n",
    "    if ds['time.year'] != 2006 or ds['time.month'] != 6  :\n",
    "        pytest.fail(f'Picked time not the same as output time')\n",
    "    ds = histrun_all3_regrid_local.get_single(\n",
    "        year=2012,\n",
    "        month=9)\n",
    "    if ds['time.year'] != 2012 or ds['time.month'] != 9  :\n",
    "        pytest.fail(f'Picked time not the same as output time')\n",
    "except OSError :\n",
    "    pytest.fail(f'OSError is raised with correct function input')\n",
    "\n",
    "try:\n",
    "    ds = histrun_all3_raw_local.get_all()\n",
    "    ds = histrun_all3_regrid_local.get_all()\n",
    "except OSError :\n",
    "    pytest.fail(f'OSError raised in get_all with correct function input')\n",
    "\n"
   ]
  },
  {
   "cell_type": "code",
   "execution_count": null,
   "metadata": {},
   "outputs": [],
   "source": []
  }
 ],
 "metadata": {
  "kernelspec": {
   "display_name": "regional_mom",
   "language": "python",
   "name": "python3"
  },
  "language_info": {
   "codemirror_mode": {
    "name": "ipython",
    "version": 3
   },
   "file_extension": ".py",
   "mimetype": "text/x-python",
   "name": "python",
   "nbconvert_exporter": "python",
   "pygments_lexer": "ipython3",
   "version": "3.11.8"
  }
 },
 "nbformat": 4,
 "nbformat_minor": 2
}
